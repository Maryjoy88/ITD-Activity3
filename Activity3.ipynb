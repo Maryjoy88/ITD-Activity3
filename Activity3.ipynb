{
 "cells": [
  {
   "cell_type": "code",
   "execution_count": 1,
   "id": "eaad0804-59dd-4ed2-905d-eed793c0c571",
   "metadata": {},
   "outputs": [],
   "source": [
    "import pandas as pd\n",
    "import numpy as np\n",
    "import seaborn as sns\n",
    "import matplotlib.pyplot as plt\n",
    "from scipy.stats import f_oneway\n",
    "\n",
    "import warnings\n",
    "warnings.filterwarnings('ignore')"
   ]
  },
  {
   "cell_type": "code",
   "execution_count": 2,
   "id": "c7d8662d-4619-4aff-b767-0eaf6f3b0a35",
   "metadata": {},
   "outputs": [
    {
     "data": {
      "text/html": [
       "<div>\n",
       "<style scoped>\n",
       "    .dataframe tbody tr th:only-of-type {\n",
       "        vertical-align: middle;\n",
       "    }\n",
       "\n",
       "    .dataframe tbody tr th {\n",
       "        vertical-align: top;\n",
       "    }\n",
       "\n",
       "    .dataframe thead th {\n",
       "        text-align: right;\n",
       "    }\n",
       "</style>\n",
       "<table border=\"1\" class=\"dataframe\">\n",
       "  <thead>\n",
       "    <tr style=\"text-align: right;\">\n",
       "      <th></th>\n",
       "      <th>Index</th>\n",
       "      <th>Accident_Severity</th>\n",
       "      <th>Accident Date</th>\n",
       "      <th>Latitude</th>\n",
       "      <th>Light_Conditions</th>\n",
       "      <th>District Area</th>\n",
       "      <th>Longitude</th>\n",
       "      <th>Number_of_Casualties</th>\n",
       "      <th>Number_of_Vehicles</th>\n",
       "      <th>Road_Surface_Conditions</th>\n",
       "      <th>Road_Type</th>\n",
       "      <th>Urban_or_Rural_Area</th>\n",
       "      <th>Weather_Conditions</th>\n",
       "      <th>Vehicle_Type</th>\n",
       "    </tr>\n",
       "  </thead>\n",
       "  <tbody>\n",
       "    <tr>\n",
       "      <th>0</th>\n",
       "      <td>200701BS64157</td>\n",
       "      <td>Serious</td>\n",
       "      <td>5/6/2019</td>\n",
       "      <td>51.506187</td>\n",
       "      <td>Darkness - lights lit</td>\n",
       "      <td>Kensington and Chelsea</td>\n",
       "      <td>-0.209082</td>\n",
       "      <td>1</td>\n",
       "      <td>2</td>\n",
       "      <td>Dry</td>\n",
       "      <td>Single carriageway</td>\n",
       "      <td>Urban</td>\n",
       "      <td>Fine no high winds</td>\n",
       "      <td>Car</td>\n",
       "    </tr>\n",
       "    <tr>\n",
       "      <th>1</th>\n",
       "      <td>200701BS65737</td>\n",
       "      <td>Serious</td>\n",
       "      <td>2/7/2019</td>\n",
       "      <td>51.495029</td>\n",
       "      <td>Daylight</td>\n",
       "      <td>Kensington and Chelsea</td>\n",
       "      <td>-0.173647</td>\n",
       "      <td>1</td>\n",
       "      <td>2</td>\n",
       "      <td>Wet or damp</td>\n",
       "      <td>Single carriageway</td>\n",
       "      <td>Urban</td>\n",
       "      <td>Raining no high winds</td>\n",
       "      <td>Car</td>\n",
       "    </tr>\n",
       "    <tr>\n",
       "      <th>2</th>\n",
       "      <td>200701BS66127</td>\n",
       "      <td>Serious</td>\n",
       "      <td>26-08-2019</td>\n",
       "      <td>51.517715</td>\n",
       "      <td>Darkness - lighting unknown</td>\n",
       "      <td>Kensington and Chelsea</td>\n",
       "      <td>-0.210215</td>\n",
       "      <td>1</td>\n",
       "      <td>3</td>\n",
       "      <td>Dry</td>\n",
       "      <td>NaN</td>\n",
       "      <td>Urban</td>\n",
       "      <td>NaN</td>\n",
       "      <td>Taxi/Private hire car</td>\n",
       "    </tr>\n",
       "    <tr>\n",
       "      <th>3</th>\n",
       "      <td>200701BS66128</td>\n",
       "      <td>Serious</td>\n",
       "      <td>16-08-2019</td>\n",
       "      <td>51.495478</td>\n",
       "      <td>Daylight</td>\n",
       "      <td>Kensington and Chelsea</td>\n",
       "      <td>-0.202731</td>\n",
       "      <td>1</td>\n",
       "      <td>4</td>\n",
       "      <td>Dry</td>\n",
       "      <td>Single carriageway</td>\n",
       "      <td>Urban</td>\n",
       "      <td>Fine no high winds</td>\n",
       "      <td>Bus or coach (17 or more pass seats)</td>\n",
       "    </tr>\n",
       "    <tr>\n",
       "      <th>4</th>\n",
       "      <td>200701BS66837</td>\n",
       "      <td>Slight</td>\n",
       "      <td>3/9/2019</td>\n",
       "      <td>51.488576</td>\n",
       "      <td>Darkness - lights lit</td>\n",
       "      <td>Kensington and Chelsea</td>\n",
       "      <td>-0.192487</td>\n",
       "      <td>1</td>\n",
       "      <td>2</td>\n",
       "      <td>Dry</td>\n",
       "      <td>NaN</td>\n",
       "      <td>Urban</td>\n",
       "      <td>NaN</td>\n",
       "      <td>Other vehicle</td>\n",
       "    </tr>\n",
       "    <tr>\n",
       "      <th>...</th>\n",
       "      <td>...</td>\n",
       "      <td>...</td>\n",
       "      <td>...</td>\n",
       "      <td>...</td>\n",
       "      <td>...</td>\n",
       "      <td>...</td>\n",
       "      <td>...</td>\n",
       "      <td>...</td>\n",
       "      <td>...</td>\n",
       "      <td>...</td>\n",
       "      <td>...</td>\n",
       "      <td>...</td>\n",
       "      <td>...</td>\n",
       "      <td>...</td>\n",
       "    </tr>\n",
       "    <tr>\n",
       "      <th>660674</th>\n",
       "      <td>201091NM01760</td>\n",
       "      <td>Slight</td>\n",
       "      <td>18-02-2022</td>\n",
       "      <td>57.374005</td>\n",
       "      <td>Daylight</td>\n",
       "      <td>Highland</td>\n",
       "      <td>-3.467828</td>\n",
       "      <td>2</td>\n",
       "      <td>1</td>\n",
       "      <td>Dry</td>\n",
       "      <td>Single carriageway</td>\n",
       "      <td>Rural</td>\n",
       "      <td>Fine no high winds</td>\n",
       "      <td>Car</td>\n",
       "    </tr>\n",
       "    <tr>\n",
       "      <th>660675</th>\n",
       "      <td>201091NM01881</td>\n",
       "      <td>Slight</td>\n",
       "      <td>21-02-2022</td>\n",
       "      <td>57.232273</td>\n",
       "      <td>Darkness - no lighting</td>\n",
       "      <td>Highland</td>\n",
       "      <td>-3.809281</td>\n",
       "      <td>1</td>\n",
       "      <td>1</td>\n",
       "      <td>Frost or ice</td>\n",
       "      <td>Single carriageway</td>\n",
       "      <td>Rural</td>\n",
       "      <td>Fine no high winds</td>\n",
       "      <td>Car</td>\n",
       "    </tr>\n",
       "    <tr>\n",
       "      <th>660676</th>\n",
       "      <td>201091NM01935</td>\n",
       "      <td>Slight</td>\n",
       "      <td>23-02-2022</td>\n",
       "      <td>57.585044</td>\n",
       "      <td>Daylight</td>\n",
       "      <td>Highland</td>\n",
       "      <td>-3.862727</td>\n",
       "      <td>1</td>\n",
       "      <td>3</td>\n",
       "      <td>Frost or ice</td>\n",
       "      <td>Single carriageway</td>\n",
       "      <td>Rural</td>\n",
       "      <td>Fine no high winds</td>\n",
       "      <td>Car</td>\n",
       "    </tr>\n",
       "    <tr>\n",
       "      <th>660677</th>\n",
       "      <td>201091NM01964</td>\n",
       "      <td>Serious</td>\n",
       "      <td>23-02-2022</td>\n",
       "      <td>57.214898</td>\n",
       "      <td>Darkness - no lighting</td>\n",
       "      <td>Highland</td>\n",
       "      <td>-3.823997</td>\n",
       "      <td>1</td>\n",
       "      <td>2</td>\n",
       "      <td>Wet or damp</td>\n",
       "      <td>Single carriageway</td>\n",
       "      <td>Rural</td>\n",
       "      <td>Fine no high winds</td>\n",
       "      <td>Motorcycle over 500cc</td>\n",
       "    </tr>\n",
       "    <tr>\n",
       "      <th>660678</th>\n",
       "      <td>201091NM02142</td>\n",
       "      <td>Serious</td>\n",
       "      <td>28-02-2022</td>\n",
       "      <td>57.575210</td>\n",
       "      <td>Daylight</td>\n",
       "      <td>Highland</td>\n",
       "      <td>-3.895673</td>\n",
       "      <td>1</td>\n",
       "      <td>1</td>\n",
       "      <td>Wet or damp</td>\n",
       "      <td>Dual carriageway</td>\n",
       "      <td>Rural</td>\n",
       "      <td>Snowing no high winds</td>\n",
       "      <td>Car</td>\n",
       "    </tr>\n",
       "  </tbody>\n",
       "</table>\n",
       "<p>660679 rows × 14 columns</p>\n",
       "</div>"
      ],
      "text/plain": [
       "                Index Accident_Severity Accident Date   Latitude  \\\n",
       "0       200701BS64157           Serious      5/6/2019  51.506187   \n",
       "1       200701BS65737           Serious      2/7/2019  51.495029   \n",
       "2       200701BS66127           Serious    26-08-2019  51.517715   \n",
       "3       200701BS66128           Serious    16-08-2019  51.495478   \n",
       "4       200701BS66837            Slight      3/9/2019  51.488576   \n",
       "...               ...               ...           ...        ...   \n",
       "660674  201091NM01760            Slight    18-02-2022  57.374005   \n",
       "660675  201091NM01881            Slight    21-02-2022  57.232273   \n",
       "660676  201091NM01935            Slight    23-02-2022  57.585044   \n",
       "660677  201091NM01964           Serious    23-02-2022  57.214898   \n",
       "660678  201091NM02142           Serious    28-02-2022  57.575210   \n",
       "\n",
       "                   Light_Conditions           District Area  Longitude  \\\n",
       "0             Darkness - lights lit  Kensington and Chelsea  -0.209082   \n",
       "1                          Daylight  Kensington and Chelsea  -0.173647   \n",
       "2       Darkness - lighting unknown  Kensington and Chelsea  -0.210215   \n",
       "3                          Daylight  Kensington and Chelsea  -0.202731   \n",
       "4             Darkness - lights lit  Kensington and Chelsea  -0.192487   \n",
       "...                             ...                     ...        ...   \n",
       "660674                     Daylight                Highland  -3.467828   \n",
       "660675       Darkness - no lighting                Highland  -3.809281   \n",
       "660676                     Daylight                Highland  -3.862727   \n",
       "660677       Darkness - no lighting                Highland  -3.823997   \n",
       "660678                     Daylight                Highland  -3.895673   \n",
       "\n",
       "        Number_of_Casualties  Number_of_Vehicles Road_Surface_Conditions  \\\n",
       "0                          1                   2                     Dry   \n",
       "1                          1                   2             Wet or damp   \n",
       "2                          1                   3                     Dry   \n",
       "3                          1                   4                     Dry   \n",
       "4                          1                   2                     Dry   \n",
       "...                      ...                 ...                     ...   \n",
       "660674                     2                   1                     Dry   \n",
       "660675                     1                   1            Frost or ice   \n",
       "660676                     1                   3            Frost or ice   \n",
       "660677                     1                   2             Wet or damp   \n",
       "660678                     1                   1             Wet or damp   \n",
       "\n",
       "                 Road_Type Urban_or_Rural_Area     Weather_Conditions  \\\n",
       "0       Single carriageway               Urban     Fine no high winds   \n",
       "1       Single carriageway               Urban  Raining no high winds   \n",
       "2                      NaN               Urban                    NaN   \n",
       "3       Single carriageway               Urban     Fine no high winds   \n",
       "4                      NaN               Urban                    NaN   \n",
       "...                    ...                 ...                    ...   \n",
       "660674  Single carriageway               Rural     Fine no high winds   \n",
       "660675  Single carriageway               Rural     Fine no high winds   \n",
       "660676  Single carriageway               Rural     Fine no high winds   \n",
       "660677  Single carriageway               Rural     Fine no high winds   \n",
       "660678    Dual carriageway               Rural  Snowing no high winds   \n",
       "\n",
       "                                Vehicle_Type  \n",
       "0                                        Car  \n",
       "1                                        Car  \n",
       "2                      Taxi/Private hire car  \n",
       "3       Bus or coach (17 or more pass seats)  \n",
       "4                              Other vehicle  \n",
       "...                                      ...  \n",
       "660674                                   Car  \n",
       "660675                                   Car  \n",
       "660676                                   Car  \n",
       "660677                 Motorcycle over 500cc  \n",
       "660678                                   Car  \n",
       "\n",
       "[660679 rows x 14 columns]"
      ]
     },
     "execution_count": 2,
     "metadata": {},
     "output_type": "execute_result"
    }
   ],
   "source": [
    "Accident  = pd.read_csv('datasets\\\\accident_data.csv')\n",
    "Accident"
   ]
  },
  {
   "cell_type": "code",
   "execution_count": 3,
   "id": "1b7db159-15dc-4b98-a551-81b0c8e38422",
   "metadata": {},
   "outputs": [
    {
     "name": "stdout",
     "output_type": "stream",
     "text": [
      "<class 'pandas.core.frame.DataFrame'>\n",
      "RangeIndex: 660679 entries, 0 to 660678\n",
      "Data columns (total 14 columns):\n",
      " #   Column                   Non-Null Count   Dtype  \n",
      "---  ------                   --------------   -----  \n",
      " 0   Index                    660679 non-null  object \n",
      " 1   Accident_Severity        660679 non-null  object \n",
      " 2   Accident Date            660679 non-null  object \n",
      " 3   Latitude                 660654 non-null  float64\n",
      " 4   Light_Conditions         660679 non-null  object \n",
      " 5   District Area            660679 non-null  object \n",
      " 6   Longitude                660653 non-null  float64\n",
      " 7   Number_of_Casualties     660679 non-null  int64  \n",
      " 8   Number_of_Vehicles       660679 non-null  int64  \n",
      " 9   Road_Surface_Conditions  659953 non-null  object \n",
      " 10  Road_Type                656159 non-null  object \n",
      " 11  Urban_or_Rural_Area      660664 non-null  object \n",
      " 12  Weather_Conditions       646551 non-null  object \n",
      " 13  Vehicle_Type             660679 non-null  object \n",
      "dtypes: float64(2), int64(2), object(10)\n",
      "memory usage: 70.6+ MB\n"
     ]
    }
   ],
   "source": [
    "Accident.info()"
   ]
  },
  {
   "cell_type": "code",
   "execution_count": 4,
   "id": "11585485-3727-48e2-86bb-698e8d906a1c",
   "metadata": {},
   "outputs": [
    {
     "data": {
      "text/html": [
       "<div>\n",
       "<style scoped>\n",
       "    .dataframe tbody tr th:only-of-type {\n",
       "        vertical-align: middle;\n",
       "    }\n",
       "\n",
       "    .dataframe tbody tr th {\n",
       "        vertical-align: top;\n",
       "    }\n",
       "\n",
       "    .dataframe thead th {\n",
       "        text-align: right;\n",
       "    }\n",
       "</style>\n",
       "<table border=\"1\" class=\"dataframe\">\n",
       "  <thead>\n",
       "    <tr style=\"text-align: right;\">\n",
       "      <th></th>\n",
       "      <th>Latitude</th>\n",
       "      <th>Longitude</th>\n",
       "      <th>Number_of_Casualties</th>\n",
       "      <th>Number_of_Vehicles</th>\n",
       "    </tr>\n",
       "  </thead>\n",
       "  <tbody>\n",
       "    <tr>\n",
       "      <th>count</th>\n",
       "      <td>660654.000000</td>\n",
       "      <td>660653.000000</td>\n",
       "      <td>660679.000000</td>\n",
       "      <td>660679.000000</td>\n",
       "    </tr>\n",
       "    <tr>\n",
       "      <th>mean</th>\n",
       "      <td>52.553866</td>\n",
       "      <td>-1.431210</td>\n",
       "      <td>1.357040</td>\n",
       "      <td>1.831255</td>\n",
       "    </tr>\n",
       "    <tr>\n",
       "      <th>std</th>\n",
       "      <td>1.406922</td>\n",
       "      <td>1.383330</td>\n",
       "      <td>0.824847</td>\n",
       "      <td>0.715269</td>\n",
       "    </tr>\n",
       "    <tr>\n",
       "      <th>min</th>\n",
       "      <td>49.914430</td>\n",
       "      <td>-7.516225</td>\n",
       "      <td>1.000000</td>\n",
       "      <td>1.000000</td>\n",
       "    </tr>\n",
       "    <tr>\n",
       "      <th>25%</th>\n",
       "      <td>51.490690</td>\n",
       "      <td>-2.332291</td>\n",
       "      <td>1.000000</td>\n",
       "      <td>1.000000</td>\n",
       "    </tr>\n",
       "    <tr>\n",
       "      <th>50%</th>\n",
       "      <td>52.315641</td>\n",
       "      <td>-1.411667</td>\n",
       "      <td>1.000000</td>\n",
       "      <td>2.000000</td>\n",
       "    </tr>\n",
       "    <tr>\n",
       "      <th>75%</th>\n",
       "      <td>53.453452</td>\n",
       "      <td>-0.232869</td>\n",
       "      <td>1.000000</td>\n",
       "      <td>2.000000</td>\n",
       "    </tr>\n",
       "    <tr>\n",
       "      <th>max</th>\n",
       "      <td>60.757544</td>\n",
       "      <td>1.762010</td>\n",
       "      <td>68.000000</td>\n",
       "      <td>32.000000</td>\n",
       "    </tr>\n",
       "  </tbody>\n",
       "</table>\n",
       "</div>"
      ],
      "text/plain": [
       "            Latitude      Longitude  Number_of_Casualties  Number_of_Vehicles\n",
       "count  660654.000000  660653.000000         660679.000000       660679.000000\n",
       "mean       52.553866      -1.431210              1.357040            1.831255\n",
       "std         1.406922       1.383330              0.824847            0.715269\n",
       "min        49.914430      -7.516225              1.000000            1.000000\n",
       "25%        51.490690      -2.332291              1.000000            1.000000\n",
       "50%        52.315641      -1.411667              1.000000            2.000000\n",
       "75%        53.453452      -0.232869              1.000000            2.000000\n",
       "max        60.757544       1.762010             68.000000           32.000000"
      ]
     },
     "execution_count": 4,
     "metadata": {},
     "output_type": "execute_result"
    }
   ],
   "source": [
    "Accident.describe()"
   ]
  },
  {
   "cell_type": "markdown",
   "id": "cf88dbe5-f1e6-4cd5-bed2-2d43ae08dad7",
   "metadata": {},
   "source": [
    "<h1>Filling up Null Values</h1>"
   ]
  },
  {
   "cell_type": "code",
   "execution_count": 5,
   "id": "d23d3732-763f-42d3-af3a-eee4ff88b48a",
   "metadata": {},
   "outputs": [],
   "source": [
    "Accident['Latitude'] = Accident['Latitude'].fillna(Accident['Latitude'].mode()[0])"
   ]
  },
  {
   "cell_type": "code",
   "execution_count": 6,
   "id": "7f244b4a-4244-470c-9a2e-38cf7388983c",
   "metadata": {},
   "outputs": [],
   "source": [
    "Accident['Longitude'] = Accident['Longitude'].fillna(Accident['Longitude'].mode()[0])"
   ]
  },
  {
   "cell_type": "code",
   "execution_count": 7,
   "id": "143605ba-da0f-4457-a67c-7096542b3d02",
   "metadata": {},
   "outputs": [],
   "source": [
    "Accident['Urban_or_Rural_Area'] = Accident['Urban_or_Rural_Area'].fillna(Accident['Urban_or_Rural_Area'].mode()[0])"
   ]
  },
  {
   "cell_type": "code",
   "execution_count": 8,
   "id": "7035a53a-7e7d-4693-b6df-ae9ce04e1cdd",
   "metadata": {},
   "outputs": [],
   "source": [
    "Accident['Road_Surface_Conditions'] = Accident['Road_Surface_Conditions'].fillna(Accident['Road_Surface_Conditions'].mode()[0])"
   ]
  },
  {
   "cell_type": "code",
   "execution_count": 9,
   "id": "e84adfd4-59dc-4a39-99e6-b3d28a88cece",
   "metadata": {},
   "outputs": [],
   "source": [
    "Accident['Road_Type'] = Accident['Road_Type'].fillna('unknown')"
   ]
  },
  {
   "cell_type": "code",
   "execution_count": 10,
   "id": "7545cb89-2d8a-4428-95b2-6deec2dd2fb3",
   "metadata": {},
   "outputs": [],
   "source": [
    "Accident['Weather_Conditions'] = Accident['Weather_Conditions'].fillna('unaccounted')"
   ]
  },
  {
   "cell_type": "code",
   "execution_count": 11,
   "id": "44e3a041-eace-4065-8c5a-50e9369a88b5",
   "metadata": {},
   "outputs": [
    {
     "data": {
      "text/plain": [
       "Index                      0\n",
       "Accident_Severity          0\n",
       "Accident Date              0\n",
       "Latitude                   0\n",
       "Light_Conditions           0\n",
       "District Area              0\n",
       "Longitude                  0\n",
       "Number_of_Casualties       0\n",
       "Number_of_Vehicles         0\n",
       "Road_Surface_Conditions    0\n",
       "Road_Type                  0\n",
       "Urban_or_Rural_Area        0\n",
       "Weather_Conditions         0\n",
       "Vehicle_Type               0\n",
       "dtype: int64"
      ]
     },
     "execution_count": 11,
     "metadata": {},
     "output_type": "execute_result"
    }
   ],
   "source": [
    "Accident.isnull().sum()"
   ]
  },
  {
   "cell_type": "markdown",
   "id": "0c99be85-6f4d-4f1f-a3af-ab561040a109",
   "metadata": {},
   "source": [
    "<h1>Data Types</h1>"
   ]
  },
  {
   "cell_type": "code",
   "execution_count": 12,
   "id": "9fadcc4c-5f4b-4223-a4d9-315e7135ec77",
   "metadata": {},
   "outputs": [],
   "source": [
    "Accident['Accident_Severity'] = Accident['Accident_Severity'].astype('category')"
   ]
  },
  {
   "cell_type": "code",
   "execution_count": 13,
   "id": "521a375d-8ffe-4f08-9e46-f502449505a8",
   "metadata": {},
   "outputs": [],
   "source": [
    "Accident['Accident Date'] = pd.to_datetime(Accident['Accident Date'], dayfirst = True, errors = 'coerce')"
   ]
  },
  {
   "cell_type": "code",
   "execution_count": 14,
   "id": "5f2a8270-22ed-4ce4-8836-bd496504db5e",
   "metadata": {},
   "outputs": [],
   "source": [
    "Accident['Light_Conditions'] = Accident['Light_Conditions'].astype('category')"
   ]
  },
  {
   "cell_type": "code",
   "execution_count": 15,
   "id": "604d8296-89e1-4888-8c64-c9bd29395742",
   "metadata": {},
   "outputs": [],
   "source": [
    "Accident['District Area'] = Accident['District Area'].astype('category')"
   ]
  },
  {
   "cell_type": "code",
   "execution_count": 16,
   "id": "809ca7a2-9da8-4c6f-9195-966615dcb8cc",
   "metadata": {},
   "outputs": [],
   "source": [
    "Accident['Road_Surface_Conditions'] = Accident['Road_Surface_Conditions'].astype('category')"
   ]
  },
  {
   "cell_type": "code",
   "execution_count": 17,
   "id": "ad8d618b-7b11-42da-a83e-d08e01196a52",
   "metadata": {},
   "outputs": [],
   "source": [
    "Accident['Road_Type'] = Accident['Road_Type'].astype('category')"
   ]
  },
  {
   "cell_type": "code",
   "execution_count": 18,
   "id": "8fa7fdeb-18f1-4df9-a3bb-e85369761836",
   "metadata": {},
   "outputs": [],
   "source": [
    "Accident['Urban_or_Rural_Area'] = Accident['Urban_or_Rural_Area'].astype('category')"
   ]
  },
  {
   "cell_type": "code",
   "execution_count": 19,
   "id": "65cac25c-f3ac-4f08-9271-28c22e7f20b5",
   "metadata": {},
   "outputs": [],
   "source": [
    "Accident['Weather_Conditions'] = Accident['Weather_Conditions'].astype('category')"
   ]
  },
  {
   "cell_type": "code",
   "execution_count": 20,
   "id": "2b6fb284-a5f9-48c1-8446-f583abf67a15",
   "metadata": {},
   "outputs": [],
   "source": [
    "Accident['Vehicle_Type'] = Accident['Vehicle_Type'].astype('category')"
   ]
  },
  {
   "cell_type": "code",
   "execution_count": 21,
   "id": "c9f4eb72-951c-4c3f-9920-087cc61bcbce",
   "metadata": {
    "scrolled": true
   },
   "outputs": [
    {
     "data": {
      "text/plain": [
       "Index                              object\n",
       "Accident_Severity                category\n",
       "Accident Date              datetime64[ns]\n",
       "Latitude                          float64\n",
       "Light_Conditions                 category\n",
       "District Area                    category\n",
       "Longitude                         float64\n",
       "Number_of_Casualties                int64\n",
       "Number_of_Vehicles                  int64\n",
       "Road_Surface_Conditions          category\n",
       "Road_Type                        category\n",
       "Urban_or_Rural_Area              category\n",
       "Weather_Conditions               category\n",
       "Vehicle_Type                     category\n",
       "dtype: object"
      ]
     },
     "execution_count": 21,
     "metadata": {},
     "output_type": "execute_result"
    }
   ],
   "source": [
    "Accident.dtypes"
   ]
  },
  {
   "cell_type": "markdown",
   "id": "3c2a82ac-ed21-4c8d-adf2-0e0521652b8e",
   "metadata": {},
   "source": [
    "<h1>Extracting date information using pandas date time</h1>"
   ]
  },
  {
   "cell_type": "code",
   "execution_count": 22,
   "id": "e41cbfe4-0d80-4a66-bf9c-56d09aa86700",
   "metadata": {},
   "outputs": [],
   "source": [
    "Accident['Year'] = Accident['Accident Date'].dt.year\n",
    "Accident['Month'] = Accident['Accident Date'].dt.month\n",
    "Accident['Day'] = Accident['Accident Date'].dt.day\n",
    "Accident['DayOfWeek'] = Accident['Accident Date'].dt.dayofweek #Monday=0, Sunday=6"
   ]
  },
  {
   "cell_type": "markdown",
   "id": "152cdf8c-c9d5-4bc4-bb30-66f58d30f0b9",
   "metadata": {},
   "source": [
    "<h3>Question:</h3>\n",
    "<h2>What is the distribution of accident severity levels in the dataset?</h2>"
   ]
  },
  {
   "cell_type": "code",
   "execution_count": 23,
   "id": "34567dd9-03ca-4118-9624-bffba2b32b97",
   "metadata": {},
   "outputs": [
    {
     "data": {
      "text/plain": [
       "Accident_Severity\n",
       "Slight     0.853366\n",
       "Serious    0.133525\n",
       "Fatal      0.013109\n",
       "Name: proportion, dtype: float64"
      ]
     },
     "execution_count": 23,
     "metadata": {},
     "output_type": "execute_result"
    }
   ],
   "source": [
    "Accident['Accident_Severity'].value_counts(normalize=True)"
   ]
  },
  {
   "cell_type": "markdown",
   "id": "1369528a-c5c6-4aa4-bdd4-9746b4cfb7d2",
   "metadata": {},
   "source": [
    "<h1>Severity by Year</h1>"
   ]
  },
  {
   "cell_type": "code",
   "execution_count": 24,
   "id": "df61f432-4a84-4970-bb6c-f8355b68c0d9",
   "metadata": {},
   "outputs": [
    {
     "data": {
      "text/html": [
       "<div>\n",
       "<style scoped>\n",
       "    .dataframe tbody tr th:only-of-type {\n",
       "        vertical-align: middle;\n",
       "    }\n",
       "\n",
       "    .dataframe tbody tr th {\n",
       "        vertical-align: top;\n",
       "    }\n",
       "\n",
       "    .dataframe thead th {\n",
       "        text-align: right;\n",
       "    }\n",
       "</style>\n",
       "<table border=\"1\" class=\"dataframe\">\n",
       "  <thead>\n",
       "    <tr style=\"text-align: right;\">\n",
       "      <th>Accident_Severity</th>\n",
       "      <th>Fatal</th>\n",
       "      <th>Serious</th>\n",
       "      <th>Slight</th>\n",
       "    </tr>\n",
       "    <tr>\n",
       "      <th>Year</th>\n",
       "      <th></th>\n",
       "      <th></th>\n",
       "      <th></th>\n",
       "    </tr>\n",
       "  </thead>\n",
       "  <tbody>\n",
       "    <tr>\n",
       "      <th>2019.0</th>\n",
       "      <td>1116</td>\n",
       "      <td>9823</td>\n",
       "      <td>60928</td>\n",
       "    </tr>\n",
       "    <tr>\n",
       "      <th>2020.0</th>\n",
       "      <td>942</td>\n",
       "      <td>9346</td>\n",
       "      <td>59875</td>\n",
       "    </tr>\n",
       "    <tr>\n",
       "      <th>2021.0</th>\n",
       "      <td>823</td>\n",
       "      <td>8858</td>\n",
       "      <td>56491</td>\n",
       "    </tr>\n",
       "    <tr>\n",
       "      <th>2022.0</th>\n",
       "      <td>623</td>\n",
       "      <td>7266</td>\n",
       "      <td>48916</td>\n",
       "    </tr>\n",
       "  </tbody>\n",
       "</table>\n",
       "</div>"
      ],
      "text/plain": [
       "Accident_Severity  Fatal  Serious  Slight\n",
       "Year                                     \n",
       "2019.0              1116     9823   60928\n",
       "2020.0               942     9346   59875\n",
       "2021.0               823     8858   56491\n",
       "2022.0               623     7266   48916"
      ]
     },
     "execution_count": 24,
     "metadata": {},
     "output_type": "execute_result"
    }
   ],
   "source": [
    "Sy = Accident.groupby(['Year', 'Accident_Severity']).size().unstack(fill_value=0)\n",
    "Sy"
   ]
  },
  {
   "cell_type": "code",
   "execution_count": 25,
   "id": "ece61b37-dfab-4c4e-ae37-8cd07f20464b",
   "metadata": {},
   "outputs": [
    {
     "data": {
      "text/html": [
       "<div>\n",
       "<style scoped>\n",
       "    .dataframe tbody tr th:only-of-type {\n",
       "        vertical-align: middle;\n",
       "    }\n",
       "\n",
       "    .dataframe tbody tr th {\n",
       "        vertical-align: top;\n",
       "    }\n",
       "\n",
       "    .dataframe thead th {\n",
       "        text-align: right;\n",
       "    }\n",
       "</style>\n",
       "<table border=\"1\" class=\"dataframe\">\n",
       "  <thead>\n",
       "    <tr style=\"text-align: right;\">\n",
       "      <th>Accident_Severity</th>\n",
       "      <th>Fatal</th>\n",
       "      <th>Serious</th>\n",
       "      <th>Slight</th>\n",
       "    </tr>\n",
       "    <tr>\n",
       "      <th>Year</th>\n",
       "      <th></th>\n",
       "      <th></th>\n",
       "      <th></th>\n",
       "    </tr>\n",
       "  </thead>\n",
       "  <tbody>\n",
       "    <tr>\n",
       "      <th>2019.0</th>\n",
       "      <td>1.552868</td>\n",
       "      <td>13.668304</td>\n",
       "      <td>84.778828</td>\n",
       "    </tr>\n",
       "    <tr>\n",
       "      <th>2020.0</th>\n",
       "      <td>1.342588</td>\n",
       "      <td>13.320411</td>\n",
       "      <td>85.337001</td>\n",
       "    </tr>\n",
       "    <tr>\n",
       "      <th>2021.0</th>\n",
       "      <td>1.243728</td>\n",
       "      <td>13.386327</td>\n",
       "      <td>85.369945</td>\n",
       "    </tr>\n",
       "    <tr>\n",
       "      <th>2022.0</th>\n",
       "      <td>1.096734</td>\n",
       "      <td>12.791128</td>\n",
       "      <td>86.112138</td>\n",
       "    </tr>\n",
       "  </tbody>\n",
       "</table>\n",
       "</div>"
      ],
      "text/plain": [
       "Accident_Severity     Fatal    Serious     Slight\n",
       "Year                                             \n",
       "2019.0             1.552868  13.668304  84.778828\n",
       "2020.0             1.342588  13.320411  85.337001\n",
       "2021.0             1.243728  13.386327  85.369945\n",
       "2022.0             1.096734  12.791128  86.112138"
      ]
     },
     "execution_count": 25,
     "metadata": {},
     "output_type": "execute_result"
    }
   ],
   "source": [
    "severityPYear = Sy.div(Sy.sum(axis=1), axis=0) * 100\n",
    "severityPYear"
   ]
  },
  {
   "cell_type": "code",
   "execution_count": 26,
   "id": "5e1cd53f-28db-4703-b32e-909de9f63bb7",
   "metadata": {},
   "outputs": [
    {
     "data": {
      "text/plain": [
       "Year\n",
       "2019.0    Slight\n",
       "2020.0    Slight\n",
       "2021.0    Slight\n",
       "2022.0    Slight\n",
       "dtype: category\n",
       "Categories (3, object): ['Fatal', 'Serious', 'Slight']"
      ]
     },
     "execution_count": 26,
     "metadata": {},
     "output_type": "execute_result"
    }
   ],
   "source": [
    "mostfreqSeverity = severityPYear.idxmax(axis=1)\n",
    "mostfreqSeverity "
   ]
  },
  {
   "cell_type": "markdown",
   "id": "fb115735-00f1-4c01-8e34-9c7b3970c325",
   "metadata": {},
   "source": [
    "<h1>Insight1</h1>\n",
    "<h2>The most frequent accident severity level is Slight, representing approximately 85.3366%</h2>"
   ]
  },
  {
   "cell_type": "markdown",
   "id": "f9ab0a73-9894-4c24-bf2d-a10de95667a4",
   "metadata": {},
   "source": [
    "<h3>Question:</h3>\n",
    "<h2>If the most frequent accident severity level is Slight, Does it change every year?</h2>"
   ]
  },
  {
   "cell_type": "code",
   "execution_count": 27,
   "id": "11d8d6c3-f464-490b-8037-df6998730357",
   "metadata": {},
   "outputs": [
    {
     "data": {
      "text/plain": [
       "True"
      ]
     },
     "execution_count": 27,
     "metadata": {},
     "output_type": "execute_result"
    }
   ],
   "source": [
    "isSlightDominant = (mostfreqSeverity == 'Slight').all()\n",
    "isSlightDominant"
   ]
  },
  {
   "cell_type": "code",
   "execution_count": 28,
   "id": "c2a34d84-ba88-4ab7-bcfc-fdb164af53c2",
   "metadata": {
    "scrolled": true
   },
   "outputs": [
    {
     "data": {
      "text/plain": [
       "<function matplotlib.pyplot.show(close=None, block=None)>"
      ]
     },
     "execution_count": 28,
     "metadata": {},
     "output_type": "execute_result"
    },
    {
     "data": {
      "image/png": "[encoded data removed]",
      "text/plain": [
       "<Figure size 1000x500 with 1 Axes>"
      ]
     },
     "metadata": {},
     "output_type": "display_data"
    }
   ],
   "source": [
    "severityPYear.plot(kind='bar', stacked=True, figsize=(10,5))\n",
    "plt.title('Distribution of Accident Severity Level by Year')\n",
    "plt.xlabel('Year')\n",
    "plt.ylabel('Percentage')\n",
    "plt.legend(title='Accident Severity', bbox_to_anchor=(1.05, 1), loc='upper left')\n",
    "plt.tight_layout()\n",
    "plt.show"
   ]
  },
  {
   "cell_type": "markdown",
   "id": "fba6a960-cb9e-4345-a346-7ba1a2f7eec8",
   "metadata": {},
   "source": [
    "<h1>Insight2</h1>\n",
    "<h2>The most Frequent accident severity level is consistently \"Slight\" across all years. So it does not change every year; it remains \"Slight\" as the most frequent severity level for all years.</h2>"
   ]
  },
  {
   "cell_type": "markdown",
   "id": "90990144-d5c8-403a-a4ac-b4ecd0ba52e2",
   "metadata": {},
   "source": [
    "<h1>Insight3</h1>\n",
    "<h2>The \"Slight\" severity level is consistent so it means that most accidents tend to result in minor injuries or damages. If this were to change in the future then it means an increase in serious or fatal accidents and could signal a need for immediate intervention</h2>"
   ]
  },
  {
   "cell_type": "markdown",
   "id": "a5ed9680-4c05-4585-8d7f-dc74a26cc201",
   "metadata": {},
   "source": [
    "<h3>Question:</h3>\n",
    "<h2>Are there specific dates with unusually high accident frequencies?</h2>"
   ]
  },
  {
   "cell_type": "code",
   "execution_count": 29,
   "id": "ae6bf9c7-3133-44b4-9bea-c6d0019aa277",
   "metadata": {},
   "outputs": [
    {
     "data": {
      "text/html": [
       "<div>\n",
       "<style scoped>\n",
       "    .dataframe tbody tr th:only-of-type {\n",
       "        vertical-align: middle;\n",
       "    }\n",
       "\n",
       "    .dataframe tbody tr th {\n",
       "        vertical-align: top;\n",
       "    }\n",
       "\n",
       "    .dataframe thead th {\n",
       "        text-align: right;\n",
       "    }\n",
       "</style>\n",
       "<table border=\"1\" class=\"dataframe\">\n",
       "  <thead>\n",
       "    <tr style=\"text-align: right;\">\n",
       "      <th></th>\n",
       "      <th>Accident Date</th>\n",
       "      <th>Accident Count</th>\n",
       "    </tr>\n",
       "  </thead>\n",
       "  <tbody>\n",
       "    <tr>\n",
       "      <th>0</th>\n",
       "      <td>2019-01-01</td>\n",
       "      <td>335</td>\n",
       "    </tr>\n",
       "    <tr>\n",
       "      <th>1</th>\n",
       "      <td>2019-01-02</td>\n",
       "      <td>370</td>\n",
       "    </tr>\n",
       "    <tr>\n",
       "      <th>2</th>\n",
       "      <td>2019-01-03</td>\n",
       "      <td>397</td>\n",
       "    </tr>\n",
       "    <tr>\n",
       "      <th>3</th>\n",
       "      <td>2019-01-04</td>\n",
       "      <td>405</td>\n",
       "    </tr>\n",
       "    <tr>\n",
       "      <th>4</th>\n",
       "      <td>2019-01-05</td>\n",
       "      <td>445</td>\n",
       "    </tr>\n",
       "    <tr>\n",
       "      <th>...</th>\n",
       "      <td>...</td>\n",
       "      <td>...</td>\n",
       "    </tr>\n",
       "    <tr>\n",
       "      <th>571</th>\n",
       "      <td>2022-12-08</td>\n",
       "      <td>390</td>\n",
       "    </tr>\n",
       "    <tr>\n",
       "      <th>572</th>\n",
       "      <td>2022-12-09</td>\n",
       "      <td>444</td>\n",
       "    </tr>\n",
       "    <tr>\n",
       "      <th>573</th>\n",
       "      <td>2022-12-10</td>\n",
       "      <td>412</td>\n",
       "    </tr>\n",
       "    <tr>\n",
       "      <th>574</th>\n",
       "      <td>2022-12-11</td>\n",
       "      <td>378</td>\n",
       "    </tr>\n",
       "    <tr>\n",
       "      <th>575</th>\n",
       "      <td>2022-12-12</td>\n",
       "      <td>303</td>\n",
       "    </tr>\n",
       "  </tbody>\n",
       "</table>\n",
       "<p>576 rows × 2 columns</p>\n",
       "</div>"
      ],
      "text/plain": [
       "    Accident Date  Accident Count\n",
       "0      2019-01-01             335\n",
       "1      2019-01-02             370\n",
       "2      2019-01-03             397\n",
       "3      2019-01-04             405\n",
       "4      2019-01-05             445\n",
       "..            ...             ...\n",
       "571    2022-12-08             390\n",
       "572    2022-12-09             444\n",
       "573    2022-12-10             412\n",
       "574    2022-12-11             378\n",
       "575    2022-12-12             303\n",
       "\n",
       "[576 rows x 2 columns]"
      ]
     },
     "execution_count": 29,
     "metadata": {},
     "output_type": "execute_result"
    }
   ],
   "source": [
    "accidents_per_date = Accident.groupby('Accident Date').size().reset_index(name='Accident Count')\n",
    "accidents_per_date"
   ]
  },
  {
   "cell_type": "code",
   "execution_count": 30,
   "id": "2d4bba2d-2767-4c94-a4f1-ba7260baafe5",
   "metadata": {},
   "outputs": [
    {
     "data": {
      "text/plain": [
       "460.08159722222223"
      ]
     },
     "execution_count": 30,
     "metadata": {},
     "output_type": "execute_result"
    }
   ],
   "source": [
    "average_accidents = accidents_per_date['Accident Count'].mean() # average\n",
    "average_accidents"
   ]
  },
  {
   "cell_type": "markdown",
   "id": "560a60a1-629b-4bcb-aff0-90895d11bf23",
   "metadata": {},
   "source": [
    "<h1>Insight 4</h1>\n",
    "<h2>There are 460.08 average accidents per Day</h2>"
   ]
  },
  {
   "cell_type": "code",
   "execution_count": 31,
   "id": "5de36940-7509-47ff-bcb4-5a8855705b40",
   "metadata": {},
   "outputs": [
    {
     "data": {
      "text/plain": [
       "94.04653024994138"
      ]
     },
     "execution_count": 31,
     "metadata": {},
     "output_type": "execute_result"
    }
   ],
   "source": [
    "std_accidents = accidents_per_date['Accident Count'].std() # standard deviation\n",
    "std_accidents "
   ]
  },
  {
   "cell_type": "code",
   "execution_count": 32,
   "id": "fa752d10-97fe-4af3-94ef-4f0be3f394a9",
   "metadata": {},
   "outputs": [
    {
     "data": {
      "text/plain": [
       "648.1746577221049"
      ]
     },
     "execution_count": 32,
     "metadata": {},
     "output_type": "execute_result"
    }
   ],
   "source": [
    "threshold = average_accidents + 2 * std_accidents \n",
    "threshold\n",
    "\n",
    "#any Day with more than approximately of the threshold is considered unusually high"
   ]
  },
  {
   "cell_type": "code",
   "execution_count": 33,
   "id": "a1b9a756-0304-44a9-aae0-897522205b10",
   "metadata": {},
   "outputs": [
    {
     "data": {
      "text/html": [
       "<div>\n",
       "<style scoped>\n",
       "    .dataframe tbody tr th:only-of-type {\n",
       "        vertical-align: middle;\n",
       "    }\n",
       "\n",
       "    .dataframe tbody tr th {\n",
       "        vertical-align: top;\n",
       "    }\n",
       "\n",
       "    .dataframe thead th {\n",
       "        text-align: right;\n",
       "    }\n",
       "</style>\n",
       "<table border=\"1\" class=\"dataframe\">\n",
       "  <thead>\n",
       "    <tr style=\"text-align: right;\">\n",
       "      <th></th>\n",
       "      <th>Accident Date</th>\n",
       "      <th>Accident Count</th>\n",
       "    </tr>\n",
       "  </thead>\n",
       "  <tbody>\n",
       "    <tr>\n",
       "      <th>12</th>\n",
       "      <td>2019-02-01</td>\n",
       "      <td>676</td>\n",
       "    </tr>\n",
       "    <tr>\n",
       "      <th>13</th>\n",
       "      <td>2019-02-02</td>\n",
       "      <td>652</td>\n",
       "    </tr>\n",
       "    <tr>\n",
       "      <th>112</th>\n",
       "      <td>2019-10-05</td>\n",
       "      <td>657</td>\n",
       "    </tr>\n",
       "    <tr>\n",
       "      <th>137</th>\n",
       "      <td>2019-12-06</td>\n",
       "      <td>678</td>\n",
       "    </tr>\n",
       "    <tr>\n",
       "      <th>142</th>\n",
       "      <td>2019-12-11</td>\n",
       "      <td>653</td>\n",
       "    </tr>\n",
       "    <tr>\n",
       "      <th>143</th>\n",
       "      <td>2019-12-12</td>\n",
       "      <td>655</td>\n",
       "    </tr>\n",
       "    <tr>\n",
       "      <th>310</th>\n",
       "      <td>2021-02-11</td>\n",
       "      <td>685</td>\n",
       "    </tr>\n",
       "    <tr>\n",
       "      <th>401</th>\n",
       "      <td>2021-10-06</td>\n",
       "      <td>680</td>\n",
       "    </tr>\n",
       "    <tr>\n",
       "      <th>419</th>\n",
       "      <td>2021-11-12</td>\n",
       "      <td>659</td>\n",
       "    </tr>\n",
       "    <tr>\n",
       "      <th>423</th>\n",
       "      <td>2021-12-04</td>\n",
       "      <td>667</td>\n",
       "    </tr>\n",
       "    <tr>\n",
       "      <th>540</th>\n",
       "      <td>2022-10-01</td>\n",
       "      <td>656</td>\n",
       "    </tr>\n",
       "  </tbody>\n",
       "</table>\n",
       "</div>"
      ],
      "text/plain": [
       "    Accident Date  Accident Count\n",
       "12     2019-02-01             676\n",
       "13     2019-02-02             652\n",
       "112    2019-10-05             657\n",
       "137    2019-12-06             678\n",
       "142    2019-12-11             653\n",
       "143    2019-12-12             655\n",
       "310    2021-02-11             685\n",
       "401    2021-10-06             680\n",
       "419    2021-11-12             659\n",
       "423    2021-12-04             667\n",
       "540    2022-10-01             656"
      ]
     },
     "execution_count": 33,
     "metadata": {},
     "output_type": "execute_result"
    }
   ],
   "source": [
    "unusual_dates = accidents_per_date[accidents_per_date['Accident Count'] > threshold]\n",
    "unusual_dates"
   ]
  },
  {
   "cell_type": "markdown",
   "id": "313bea0a-49a8-4be5-9f20-55066f260a30",
   "metadata": {},
   "source": [
    "<h1>Insight 5</h1>\n",
    "<h2> The specific dates with unusually high accident frequencies are listed above from 2019 to 2022 </h2>"
   ]
  },
  {
   "cell_type": "markdown",
   "id": "58d1d1fc-b13e-4b9c-8b43-f434b7f17a46",
   "metadata": {},
   "source": [
    "<h3>Counting the accidents happen from the weather conditions</h3>"
   ]
  },
  {
   "cell_type": "code",
   "execution_count": 34,
   "id": "e1a0fdd6-ade6-4d0f-86ad-19cf804633b4",
   "metadata": {},
   "outputs": [
    {
     "data": {
      "text/plain": [
       "Weather_Conditions\n",
       "Fine no high winds       520885\n",
       "Raining no high winds     79696\n",
       "Other                     17150\n",
       "unaccounted               14128\n",
       "Raining + high winds       9615\n",
       "Fine + high winds          8554\n",
       "Snowing no high winds      6238\n",
       "Fog or mist                3528\n",
       "Snowing + high winds        885\n",
       "Name: count, dtype: int64"
      ]
     },
     "execution_count": 34,
     "metadata": {},
     "output_type": "execute_result"
    }
   ],
   "source": [
    "weather_counts = Accident['Weather_Conditions'].value_counts()\n",
    "weather_counts"
   ]
  },
  {
   "cell_type": "markdown",
   "id": "0be8eee2-6be0-4f83-a1d9-f08115dde1b6",
   "metadata": {},
   "source": [
    "<h1>Insight 6</h1>\n",
    "<h2> most accident happens during fine no high winds of weather conditions meaning except for fine and no high winds theres another factor affecting the accidents happen, and not depending on other weather conditions. But Understanding this factor can help people to inform and may reduce accident rates in the future.</h2>"
   ]
  },
  {
   "cell_type": "markdown",
   "id": "323e333e-1d56-46a8-badf-a12b80e693a7",
   "metadata": {},
   "source": [
    "<h3>Counting the accidents happen from the Light conditions</h3>"
   ]
  },
  {
   "cell_type": "code",
   "execution_count": 35,
   "id": "b4e412ee-8984-4a29-b00d-2f96c8de066a",
   "metadata": {},
   "outputs": [
    {
     "data": {
      "text/plain": [
       "Light_Conditions\n",
       "Daylight                       484880\n",
       "Darkness - lights lit          129335\n",
       "Darkness - no lighting          37437\n",
       "Darkness - lighting unknown      6484\n",
       "Darkness - lights unlit          2543\n",
       "Name: count, dtype: int64"
      ]
     },
     "execution_count": 35,
     "metadata": {},
     "output_type": "execute_result"
    }
   ],
   "source": [
    "light_counts = Accident['Light_Conditions'].value_counts()\n",
    "light_counts"
   ]
  },
  {
   "cell_type": "markdown",
   "id": "bf62f2e1-737a-4be2-b525-f201f0c66c21",
   "metadata": {},
   "source": [
    "<h1>Insight 7</h1>\n",
    "<h2> most accident happens during Daylight. And understanding this factor can help people to inform and may reduce accident by addressing some factors or issues during Daylight to reduce accident rates in the future.</h2>"
   ]
  },
  {
   "cell_type": "markdown",
   "id": "3ef3060d-3c21-4781-8d99-522f33ae0c0c",
   "metadata": {},
   "source": [
    "<h3>Counting the accidents happen from the Road surface conditions</h3>"
   ]
  },
  {
   "cell_type": "code",
   "execution_count": 36,
   "id": "4eeec2da-3160-403f-b18e-ea881a8eb8dd",
   "metadata": {},
   "outputs": [
    {
     "data": {
      "text/plain": [
       "Road_Surface_Conditions\n",
       "Dry                     448547\n",
       "Wet or damp             186708\n",
       "Frost or ice             18517\n",
       "Snow                      5890\n",
       "Flood over 3cm. deep      1017\n",
       "Name: count, dtype: int64"
      ]
     },
     "execution_count": 36,
     "metadata": {},
     "output_type": "execute_result"
    }
   ],
   "source": [
    "road_surface_counts = Accident['Road_Surface_Conditions'].value_counts()\n",
    "road_surface_counts"
   ]
  },
  {
   "cell_type": "markdown",
   "id": "ecd3855b-7805-4c76-9a1f-d67ce5d74285",
   "metadata": {},
   "source": [
    "<h1>Insight 8</h1>\n",
    "<h2> most accident happens when the Road surface is Dry which means that except for the Daylight there can be another factor like environmental factors affecting why the accident happens. But Understanding this factor can help people to inform and may reduce accident rates in the future.</h2>"
   ]
  },
  {
   "cell_type": "code",
   "execution_count": 37,
   "id": "255b841f-5209-4192-8a34-f3e40622fc42",
   "metadata": {},
   "outputs": [
    {
     "data": {
      "text/plain": [
       "0         Kensington and Chelsea\n",
       "1         Kensington and Chelsea\n",
       "2         Kensington and Chelsea\n",
       "3         Kensington and Chelsea\n",
       "4         Kensington and Chelsea\n",
       "                   ...          \n",
       "660674                  Highland\n",
       "660675                  Highland\n",
       "660676                  Highland\n",
       "660677                  Highland\n",
       "660678                  Highland\n",
       "Name: District Area, Length: 660679, dtype: category\n",
       "Categories (422, object): ['Aberdeen City', 'Aberdeenshire', 'Adur', 'Allerdale', ..., 'Wycombe', 'Wyre', 'Wyre Forest', 'York']"
      ]
     },
     "execution_count": 37,
     "metadata": {},
     "output_type": "execute_result"
    }
   ],
   "source": [
    "Accident['District Area']"
   ]
  },
  {
   "cell_type": "markdown",
   "id": "043ba336-e814-4719-984e-5044ba9a931f",
   "metadata": {},
   "source": [
    "<h3>Question:</h3>\n",
    "<h2>What District Area does the accident is more likely to happen?</h2>"
   ]
  },
  {
   "cell_type": "code",
   "execution_count": 38,
   "id": "dc2b7242-b2d0-4128-a945-7350cf3c0ad2",
   "metadata": {},
   "outputs": [
    {
     "data": {
      "text/plain": [
       "District Area\n",
       "Birmingham            13491\n",
       "Leeds                  8898\n",
       "Manchester             6720\n",
       "Bradford               6212\n",
       "Sheffield              5710\n",
       "                      ...  \n",
       "Berwick-upon-Tweed      153\n",
       "Teesdale                142\n",
       "Shetland Islands        133\n",
       "Orkney Islands          117\n",
       "Clackmannanshire         91\n",
       "Name: count, Length: 422, dtype: int64"
      ]
     },
     "execution_count": 38,
     "metadata": {},
     "output_type": "execute_result"
    }
   ],
   "source": [
    "Distcount = Accident['District Area'].value_counts()\n",
    "Distcount"
   ]
  },
  {
   "cell_type": "markdown",
   "id": "adeb2b84-74b7-49ed-8d89-21a52022714c",
   "metadata": {},
   "source": [
    "<h1>Insight 9</h1>\n",
    "<h2>The accident is more likely to happen in the Birmingham Area</h2>"
   ]
  },
  {
   "cell_type": "code",
   "execution_count": 39,
   "id": "245b07d6-a78b-46b1-a021-9f182bd53fb3",
   "metadata": {},
   "outputs": [
    {
     "data": {
      "text/html": [
       "<div>\n",
       "<style scoped>\n",
       "    .dataframe tbody tr th:only-of-type {\n",
       "        vertical-align: middle;\n",
       "    }\n",
       "\n",
       "    .dataframe tbody tr th {\n",
       "        vertical-align: top;\n",
       "    }\n",
       "\n",
       "    .dataframe thead th {\n",
       "        text-align: right;\n",
       "    }\n",
       "</style>\n",
       "<table border=\"1\" class=\"dataframe\">\n",
       "  <thead>\n",
       "    <tr style=\"text-align: right;\">\n",
       "      <th></th>\n",
       "      <th>Accident Date</th>\n",
       "      <th>Latitude</th>\n",
       "      <th>Longitude</th>\n",
       "      <th>Number_of_Casualties</th>\n",
       "      <th>Number_of_Vehicles</th>\n",
       "      <th>Year</th>\n",
       "      <th>Month</th>\n",
       "      <th>Day</th>\n",
       "      <th>DayOfWeek</th>\n",
       "    </tr>\n",
       "  </thead>\n",
       "  <tbody>\n",
       "    <tr>\n",
       "      <th>count</th>\n",
       "      <td>265007</td>\n",
       "      <td>660679.000000</td>\n",
       "      <td>660679.000000</td>\n",
       "      <td>660679.000000</td>\n",
       "      <td>660679.000000</td>\n",
       "      <td>265007.000000</td>\n",
       "      <td>265007.000000</td>\n",
       "      <td>265007.000000</td>\n",
       "      <td>265007.000000</td>\n",
       "    </tr>\n",
       "    <tr>\n",
       "      <th>mean</th>\n",
       "      <td>2020-11-23 16:22:04.873683456</td>\n",
       "      <td>52.553862</td>\n",
       "      <td>-1.431193</td>\n",
       "      <td>1.357040</td>\n",
       "      <td>1.831255</td>\n",
       "      <td>2020.407216</td>\n",
       "      <td>6.708374</td>\n",
       "      <td>6.522028</td>\n",
       "      <td>3.106367</td>\n",
       "    </tr>\n",
       "    <tr>\n",
       "      <th>min</th>\n",
       "      <td>2019-01-01 00:00:00</td>\n",
       "      <td>49.914430</td>\n",
       "      <td>-7.516225</td>\n",
       "      <td>1.000000</td>\n",
       "      <td>1.000000</td>\n",
       "      <td>2019.000000</td>\n",
       "      <td>1.000000</td>\n",
       "      <td>1.000000</td>\n",
       "      <td>0.000000</td>\n",
       "    </tr>\n",
       "    <tr>\n",
       "      <th>25%</th>\n",
       "      <td>2019-12-03 00:00:00</td>\n",
       "      <td>51.490696</td>\n",
       "      <td>-2.332191</td>\n",
       "      <td>1.000000</td>\n",
       "      <td>1.000000</td>\n",
       "      <td>2019.000000</td>\n",
       "      <td>4.000000</td>\n",
       "      <td>4.000000</td>\n",
       "      <td>1.000000</td>\n",
       "    </tr>\n",
       "    <tr>\n",
       "      <th>50%</th>\n",
       "      <td>2020-11-07 00:00:00</td>\n",
       "      <td>52.315755</td>\n",
       "      <td>-1.411613</td>\n",
       "      <td>1.000000</td>\n",
       "      <td>2.000000</td>\n",
       "      <td>2020.000000</td>\n",
       "      <td>7.000000</td>\n",
       "      <td>7.000000</td>\n",
       "      <td>3.000000</td>\n",
       "    </tr>\n",
       "    <tr>\n",
       "      <th>75%</th>\n",
       "      <td>2021-11-07 00:00:00</td>\n",
       "      <td>53.453444</td>\n",
       "      <td>-0.232901</td>\n",
       "      <td>1.000000</td>\n",
       "      <td>2.000000</td>\n",
       "      <td>2021.000000</td>\n",
       "      <td>10.000000</td>\n",
       "      <td>10.000000</td>\n",
       "      <td>5.000000</td>\n",
       "    </tr>\n",
       "    <tr>\n",
       "      <th>max</th>\n",
       "      <td>2022-12-12 00:00:00</td>\n",
       "      <td>60.757544</td>\n",
       "      <td>1.762010</td>\n",
       "      <td>68.000000</td>\n",
       "      <td>32.000000</td>\n",
       "      <td>2022.000000</td>\n",
       "      <td>12.000000</td>\n",
       "      <td>12.000000</td>\n",
       "      <td>6.000000</td>\n",
       "    </tr>\n",
       "    <tr>\n",
       "      <th>std</th>\n",
       "      <td>NaN</td>\n",
       "      <td>1.406896</td>\n",
       "      <td>1.383305</td>\n",
       "      <td>0.824847</td>\n",
       "      <td>0.715269</td>\n",
       "      <td>1.101126</td>\n",
       "      <td>3.445617</td>\n",
       "      <td>3.467063</td>\n",
       "      <td>1.920114</td>\n",
       "    </tr>\n",
       "  </tbody>\n",
       "</table>\n",
       "</div>"
      ],
      "text/plain": [
       "                       Accident Date       Latitude      Longitude  \\\n",
       "count                         265007  660679.000000  660679.000000   \n",
       "mean   2020-11-23 16:22:04.873683456      52.553862      -1.431193   \n",
       "min              2019-01-01 00:00:00      49.914430      -7.516225   \n",
       "25%              2019-12-03 00:00:00      51.490696      -2.332191   \n",
       "50%              2020-11-07 00:00:00      52.315755      -1.411613   \n",
       "75%              2021-11-07 00:00:00      53.453444      -0.232901   \n",
       "max              2022-12-12 00:00:00      60.757544       1.762010   \n",
       "std                              NaN       1.406896       1.383305   \n",
       "\n",
       "       Number_of_Casualties  Number_of_Vehicles           Year          Month  \\\n",
       "count         660679.000000       660679.000000  265007.000000  265007.000000   \n",
       "mean               1.357040            1.831255    2020.407216       6.708374   \n",
       "min                1.000000            1.000000    2019.000000       1.000000   \n",
       "25%                1.000000            1.000000    2019.000000       4.000000   \n",
       "50%                1.000000            2.000000    2020.000000       7.000000   \n",
       "75%                1.000000            2.000000    2021.000000      10.000000   \n",
       "max               68.000000           32.000000    2022.000000      12.000000   \n",
       "std                0.824847            0.715269       1.101126       3.445617   \n",
       "\n",
       "                 Day      DayOfWeek  \n",
       "count  265007.000000  265007.000000  \n",
       "mean        6.522028       3.106367  \n",
       "min         1.000000       0.000000  \n",
       "25%         4.000000       1.000000  \n",
       "50%         7.000000       3.000000  \n",
       "75%        10.000000       5.000000  \n",
       "max        12.000000       6.000000  \n",
       "std         3.467063       1.920114  "
      ]
     },
     "execution_count": 39,
     "metadata": {},
     "output_type": "execute_result"
    }
   ],
   "source": [
    "Accident.describe()"
   ]
  },
  {
   "cell_type": "markdown",
   "id": "bb490cda-8170-4b86-ad27-d3a6bf831a30",
   "metadata": {},
   "source": [
    "<h3>Question:</h3>\n",
    "<h2>Is there a correlation between the latitude and the location of the most prone accident, Birmingham?</h2>"
   ]
  },
  {
   "cell_type": "code",
   "execution_count": 40,
   "id": "3a641247-998e-4a46-8017-13ddfd305aa1",
   "metadata": {},
   "outputs": [
    {
     "data": {
      "text/html": [
       "<div>\n",
       "<style scoped>\n",
       "    .dataframe tbody tr th:only-of-type {\n",
       "        vertical-align: middle;\n",
       "    }\n",
       "\n",
       "    .dataframe tbody tr th {\n",
       "        vertical-align: top;\n",
       "    }\n",
       "\n",
       "    .dataframe thead th {\n",
       "        text-align: right;\n",
       "    }\n",
       "</style>\n",
       "<table border=\"1\" class=\"dataframe\">\n",
       "  <thead>\n",
       "    <tr style=\"text-align: right;\">\n",
       "      <th></th>\n",
       "      <th>Index</th>\n",
       "      <th>Accident_Severity</th>\n",
       "      <th>Accident Date</th>\n",
       "      <th>Latitude</th>\n",
       "      <th>Light_Conditions</th>\n",
       "      <th>District Area</th>\n",
       "      <th>Longitude</th>\n",
       "      <th>Number_of_Casualties</th>\n",
       "      <th>Number_of_Vehicles</th>\n",
       "      <th>Road_Surface_Conditions</th>\n",
       "      <th>Road_Type</th>\n",
       "      <th>Urban_or_Rural_Area</th>\n",
       "      <th>Weather_Conditions</th>\n",
       "      <th>Vehicle_Type</th>\n",
       "      <th>Year</th>\n",
       "      <th>Month</th>\n",
       "      <th>Day</th>\n",
       "      <th>DayOfWeek</th>\n",
       "    </tr>\n",
       "  </thead>\n",
       "  <tbody>\n",
       "    <tr>\n",
       "      <th>68519</th>\n",
       "      <td>200720D003001</td>\n",
       "      <td>Slight</td>\n",
       "      <td>2019-01-02</td>\n",
       "      <td>52.513668</td>\n",
       "      <td>Darkness - lights lit</td>\n",
       "      <td>Birmingham</td>\n",
       "      <td>-1.901975</td>\n",
       "      <td>1</td>\n",
       "      <td>2</td>\n",
       "      <td>Wet or damp</td>\n",
       "      <td>Dual carriageway</td>\n",
       "      <td>Urban</td>\n",
       "      <td>Raining no high winds</td>\n",
       "      <td>Car</td>\n",
       "      <td>2019.0</td>\n",
       "      <td>1.0</td>\n",
       "      <td>2.0</td>\n",
       "      <td>2.0</td>\n",
       "    </tr>\n",
       "    <tr>\n",
       "      <th>68520</th>\n",
       "      <td>200720D003101</td>\n",
       "      <td>Slight</td>\n",
       "      <td>2019-01-02</td>\n",
       "      <td>52.502396</td>\n",
       "      <td>Daylight</td>\n",
       "      <td>Birmingham</td>\n",
       "      <td>-1.867086</td>\n",
       "      <td>1</td>\n",
       "      <td>2</td>\n",
       "      <td>Wet or damp</td>\n",
       "      <td>Single carriageway</td>\n",
       "      <td>Urban</td>\n",
       "      <td>Raining no high winds</td>\n",
       "      <td>Car</td>\n",
       "      <td>2019.0</td>\n",
       "      <td>1.0</td>\n",
       "      <td>2.0</td>\n",
       "      <td>2.0</td>\n",
       "    </tr>\n",
       "    <tr>\n",
       "      <th>68521</th>\n",
       "      <td>200720D003802</td>\n",
       "      <td>Serious</td>\n",
       "      <td>2019-01-03</td>\n",
       "      <td>52.563201</td>\n",
       "      <td>Daylight</td>\n",
       "      <td>Birmingham</td>\n",
       "      <td>-1.822793</td>\n",
       "      <td>1</td>\n",
       "      <td>1</td>\n",
       "      <td>Dry</td>\n",
       "      <td>Single carriageway</td>\n",
       "      <td>Urban</td>\n",
       "      <td>Fine no high winds</td>\n",
       "      <td>Car</td>\n",
       "      <td>2019.0</td>\n",
       "      <td>1.0</td>\n",
       "      <td>3.0</td>\n",
       "      <td>3.0</td>\n",
       "    </tr>\n",
       "    <tr>\n",
       "      <th>68522</th>\n",
       "      <td>200720D005801</td>\n",
       "      <td>Slight</td>\n",
       "      <td>2019-01-02</td>\n",
       "      <td>52.493431</td>\n",
       "      <td>Daylight</td>\n",
       "      <td>Birmingham</td>\n",
       "      <td>-1.818507</td>\n",
       "      <td>1</td>\n",
       "      <td>2</td>\n",
       "      <td>Wet or damp</td>\n",
       "      <td>Dual carriageway</td>\n",
       "      <td>Urban</td>\n",
       "      <td>unaccounted</td>\n",
       "      <td>Car</td>\n",
       "      <td>2019.0</td>\n",
       "      <td>1.0</td>\n",
       "      <td>2.0</td>\n",
       "      <td>2.0</td>\n",
       "    </tr>\n",
       "    <tr>\n",
       "      <th>68523</th>\n",
       "      <td>200720D005901</td>\n",
       "      <td>Slight</td>\n",
       "      <td>2019-01-05</td>\n",
       "      <td>52.510805</td>\n",
       "      <td>Darkness - lights lit</td>\n",
       "      <td>Birmingham</td>\n",
       "      <td>-1.834202</td>\n",
       "      <td>1</td>\n",
       "      <td>3</td>\n",
       "      <td>Dry</td>\n",
       "      <td>Dual carriageway</td>\n",
       "      <td>Urban</td>\n",
       "      <td>Fine no high winds</td>\n",
       "      <td>Car</td>\n",
       "      <td>2019.0</td>\n",
       "      <td>1.0</td>\n",
       "      <td>5.0</td>\n",
       "      <td>5.0</td>\n",
       "    </tr>\n",
       "    <tr>\n",
       "      <th>...</th>\n",
       "      <td>...</td>\n",
       "      <td>...</td>\n",
       "      <td>...</td>\n",
       "      <td>...</td>\n",
       "      <td>...</td>\n",
       "      <td>...</td>\n",
       "      <td>...</td>\n",
       "      <td>...</td>\n",
       "      <td>...</td>\n",
       "      <td>...</td>\n",
       "      <td>...</td>\n",
       "      <td>...</td>\n",
       "      <td>...</td>\n",
       "      <td>...</td>\n",
       "      <td>...</td>\n",
       "      <td>...</td>\n",
       "      <td>...</td>\n",
       "      <td>...</td>\n",
       "    </tr>\n",
       "    <tr>\n",
       "      <th>583759</th>\n",
       "      <td>201020Z500110</td>\n",
       "      <td>Slight</td>\n",
       "      <td>NaT</td>\n",
       "      <td>52.506095</td>\n",
       "      <td>Darkness - lights lit</td>\n",
       "      <td>Birmingham</td>\n",
       "      <td>-1.878861</td>\n",
       "      <td>1</td>\n",
       "      <td>2</td>\n",
       "      <td>Snow</td>\n",
       "      <td>Single carriageway</td>\n",
       "      <td>Urban</td>\n",
       "      <td>Snowing no high winds</td>\n",
       "      <td>Car</td>\n",
       "      <td>NaN</td>\n",
       "      <td>NaN</td>\n",
       "      <td>NaN</td>\n",
       "      <td>NaN</td>\n",
       "    </tr>\n",
       "    <tr>\n",
       "      <th>583760</th>\n",
       "      <td>201020Z500120</td>\n",
       "      <td>Slight</td>\n",
       "      <td>NaT</td>\n",
       "      <td>52.514554</td>\n",
       "      <td>Darkness - lights lit</td>\n",
       "      <td>Birmingham</td>\n",
       "      <td>-1.765076</td>\n",
       "      <td>1</td>\n",
       "      <td>2</td>\n",
       "      <td>Frost or ice</td>\n",
       "      <td>Dual carriageway</td>\n",
       "      <td>Rural</td>\n",
       "      <td>Snowing no high winds</td>\n",
       "      <td>Car</td>\n",
       "      <td>NaN</td>\n",
       "      <td>NaN</td>\n",
       "      <td>NaN</td>\n",
       "      <td>NaN</td>\n",
       "    </tr>\n",
       "    <tr>\n",
       "      <th>583761</th>\n",
       "      <td>201020Z500140</td>\n",
       "      <td>Slight</td>\n",
       "      <td>NaT</td>\n",
       "      <td>52.507630</td>\n",
       "      <td>Darkness - lights lit</td>\n",
       "      <td>Birmingham</td>\n",
       "      <td>-1.814913</td>\n",
       "      <td>2</td>\n",
       "      <td>2</td>\n",
       "      <td>Wet or damp</td>\n",
       "      <td>Dual carriageway</td>\n",
       "      <td>Urban</td>\n",
       "      <td>Raining no high winds</td>\n",
       "      <td>Car</td>\n",
       "      <td>NaN</td>\n",
       "      <td>NaN</td>\n",
       "      <td>NaN</td>\n",
       "      <td>NaN</td>\n",
       "    </tr>\n",
       "    <tr>\n",
       "      <th>583766</th>\n",
       "      <td>201020Z620211</td>\n",
       "      <td>Slight</td>\n",
       "      <td>NaT</td>\n",
       "      <td>52.509143</td>\n",
       "      <td>Darkness - lights lit</td>\n",
       "      <td>Birmingham</td>\n",
       "      <td>-1.871043</td>\n",
       "      <td>2</td>\n",
       "      <td>2</td>\n",
       "      <td>Wet or damp</td>\n",
       "      <td>Dual carriageway</td>\n",
       "      <td>Urban</td>\n",
       "      <td>Fine no high winds</td>\n",
       "      <td>Taxi/Private hire car</td>\n",
       "      <td>NaN</td>\n",
       "      <td>NaN</td>\n",
       "      <td>NaN</td>\n",
       "      <td>NaN</td>\n",
       "    </tr>\n",
       "    <tr>\n",
       "      <th>583768</th>\n",
       "      <td>201020Z679611</td>\n",
       "      <td>Slight</td>\n",
       "      <td>NaT</td>\n",
       "      <td>52.496214</td>\n",
       "      <td>Daylight</td>\n",
       "      <td>Birmingham</td>\n",
       "      <td>-1.886989</td>\n",
       "      <td>2</td>\n",
       "      <td>2</td>\n",
       "      <td>Dry</td>\n",
       "      <td>Dual carriageway</td>\n",
       "      <td>Urban</td>\n",
       "      <td>Fine no high winds</td>\n",
       "      <td>Car</td>\n",
       "      <td>NaN</td>\n",
       "      <td>NaN</td>\n",
       "      <td>NaN</td>\n",
       "      <td>NaN</td>\n",
       "    </tr>\n",
       "  </tbody>\n",
       "</table>\n",
       "<p>13491 rows × 18 columns</p>\n",
       "</div>"
      ],
      "text/plain": [
       "                Index Accident_Severity Accident Date   Latitude  \\\n",
       "68519   200720D003001            Slight    2019-01-02  52.513668   \n",
       "68520   200720D003101            Slight    2019-01-02  52.502396   \n",
       "68521   200720D003802           Serious    2019-01-03  52.563201   \n",
       "68522   200720D005801            Slight    2019-01-02  52.493431   \n",
       "68523   200720D005901            Slight    2019-01-05  52.510805   \n",
       "...               ...               ...           ...        ...   \n",
       "583759  201020Z500110            Slight           NaT  52.506095   \n",
       "583760  201020Z500120            Slight           NaT  52.514554   \n",
       "583761  201020Z500140            Slight           NaT  52.507630   \n",
       "583766  201020Z620211            Slight           NaT  52.509143   \n",
       "583768  201020Z679611            Slight           NaT  52.496214   \n",
       "\n",
       "             Light_Conditions District Area  Longitude  Number_of_Casualties  \\\n",
       "68519   Darkness - lights lit    Birmingham  -1.901975                     1   \n",
       "68520                Daylight    Birmingham  -1.867086                     1   \n",
       "68521                Daylight    Birmingham  -1.822793                     1   \n",
       "68522                Daylight    Birmingham  -1.818507                     1   \n",
       "68523   Darkness - lights lit    Birmingham  -1.834202                     1   \n",
       "...                       ...           ...        ...                   ...   \n",
       "583759  Darkness - lights lit    Birmingham  -1.878861                     1   \n",
       "583760  Darkness - lights lit    Birmingham  -1.765076                     1   \n",
       "583761  Darkness - lights lit    Birmingham  -1.814913                     2   \n",
       "583766  Darkness - lights lit    Birmingham  -1.871043                     2   \n",
       "583768               Daylight    Birmingham  -1.886989                     2   \n",
       "\n",
       "        Number_of_Vehicles Road_Surface_Conditions           Road_Type  \\\n",
       "68519                    2             Wet or damp    Dual carriageway   \n",
       "68520                    2             Wet or damp  Single carriageway   \n",
       "68521                    1                     Dry  Single carriageway   \n",
       "68522                    2             Wet or damp    Dual carriageway   \n",
       "68523                    3                     Dry    Dual carriageway   \n",
       "...                    ...                     ...                 ...   \n",
       "583759                   2                    Snow  Single carriageway   \n",
       "583760                   2            Frost or ice    Dual carriageway   \n",
       "583761                   2             Wet or damp    Dual carriageway   \n",
       "583766                   2             Wet or damp    Dual carriageway   \n",
       "583768                   2                     Dry    Dual carriageway   \n",
       "\n",
       "       Urban_or_Rural_Area     Weather_Conditions           Vehicle_Type  \\\n",
       "68519                Urban  Raining no high winds                    Car   \n",
       "68520                Urban  Raining no high winds                    Car   \n",
       "68521                Urban     Fine no high winds                    Car   \n",
       "68522                Urban            unaccounted                    Car   \n",
       "68523                Urban     Fine no high winds                    Car   \n",
       "...                    ...                    ...                    ...   \n",
       "583759               Urban  Snowing no high winds                    Car   \n",
       "583760               Rural  Snowing no high winds                    Car   \n",
       "583761               Urban  Raining no high winds                    Car   \n",
       "583766               Urban     Fine no high winds  Taxi/Private hire car   \n",
       "583768               Urban     Fine no high winds                    Car   \n",
       "\n",
       "          Year  Month  Day  DayOfWeek  \n",
       "68519   2019.0    1.0  2.0        2.0  \n",
       "68520   2019.0    1.0  2.0        2.0  \n",
       "68521   2019.0    1.0  3.0        3.0  \n",
       "68522   2019.0    1.0  2.0        2.0  \n",
       "68523   2019.0    1.0  5.0        5.0  \n",
       "...        ...    ...  ...        ...  \n",
       "583759     NaN    NaN  NaN        NaN  \n",
       "583760     NaN    NaN  NaN        NaN  \n",
       "583761     NaN    NaN  NaN        NaN  \n",
       "583766     NaN    NaN  NaN        NaN  \n",
       "583768     NaN    NaN  NaN        NaN  \n",
       "\n",
       "[13491 rows x 18 columns]"
      ]
     },
     "execution_count": 40,
     "metadata": {},
     "output_type": "execute_result"
    }
   ],
   "source": [
    "birmingham_data = Accident[Accident['District Area'] == 'Birmingham']\n",
    "birmingham_data"
   ]
  },
  {
   "cell_type": "code",
   "execution_count": 41,
   "id": "15894489-019a-4ee2-9bd3-d0ea810494c0",
   "metadata": {},
   "outputs": [
    {
     "data": {
      "text/plain": [
       "Latitude\n",
       "52.384250    1\n",
       "52.384969    1\n",
       "52.385149    4\n",
       "52.385598    1\n",
       "52.385867    1\n",
       "            ..\n",
       "52.599106    1\n",
       "52.601288    1\n",
       "52.602609    1\n",
       "52.606644    1\n",
       "52.607004    1\n",
       "Length: 8844, dtype: int64"
      ]
     },
     "execution_count": 41,
     "metadata": {},
     "output_type": "execute_result"
    }
   ],
   "source": [
    "accident_counts = birmingham_data.groupby('Latitude').size()\n",
    "accident_counts"
   ]
  },
  {
   "cell_type": "markdown",
   "id": "3184eaf2-d1bf-4638-b11c-bca063b571aa",
   "metadata": {},
   "source": [
    "<h1>Insight 10</h1>\n",
    "<h2>The fact that there are multiple accidents (4 in this case) at the same latitude suggests that this location could be a hotspot for accidents</h2>"
   ]
  },
  {
   "cell_type": "code",
   "execution_count": 42,
   "id": "3b072b60-f378-4490-96a4-fe1842cd34bc",
   "metadata": {},
   "outputs": [
    {
     "data": {
      "text/html": [
       "<div>\n",
       "<style scoped>\n",
       "    .dataframe tbody tr th:only-of-type {\n",
       "        vertical-align: middle;\n",
       "    }\n",
       "\n",
       "    .dataframe tbody tr th {\n",
       "        vertical-align: top;\n",
       "    }\n",
       "\n",
       "    .dataframe thead th {\n",
       "        text-align: right;\n",
       "    }\n",
       "</style>\n",
       "<table border=\"1\" class=\"dataframe\">\n",
       "  <thead>\n",
       "    <tr style=\"text-align: right;\">\n",
       "      <th></th>\n",
       "      <th>Index</th>\n",
       "      <th>Accident_Severity</th>\n",
       "      <th>Accident Date</th>\n",
       "      <th>Latitude</th>\n",
       "      <th>Light_Conditions</th>\n",
       "      <th>District Area</th>\n",
       "      <th>Longitude</th>\n",
       "      <th>Number_of_Casualties</th>\n",
       "      <th>Number_of_Vehicles</th>\n",
       "      <th>Road_Surface_Conditions</th>\n",
       "      <th>Road_Type</th>\n",
       "      <th>Urban_or_Rural_Area</th>\n",
       "      <th>Weather_Conditions</th>\n",
       "      <th>Vehicle_Type</th>\n",
       "      <th>Year</th>\n",
       "      <th>Month</th>\n",
       "      <th>Day</th>\n",
       "      <th>DayOfWeek</th>\n",
       "    </tr>\n",
       "  </thead>\n",
       "  <tbody>\n",
       "    <tr>\n",
       "      <th>70343</th>\n",
       "      <td>200720E065801</td>\n",
       "      <td>Serious</td>\n",
       "      <td>NaT</td>\n",
       "      <td>52.385149</td>\n",
       "      <td>Daylight</td>\n",
       "      <td>Birmingham</td>\n",
       "      <td>-2.001877</td>\n",
       "      <td>1</td>\n",
       "      <td>2</td>\n",
       "      <td>Dry</td>\n",
       "      <td>Dual carriageway</td>\n",
       "      <td>Urban</td>\n",
       "      <td>Fine no high winds</td>\n",
       "      <td>Goods over 3.5t. and under 7.5t</td>\n",
       "      <td>NaN</td>\n",
       "      <td>NaN</td>\n",
       "      <td>NaN</td>\n",
       "      <td>NaN</td>\n",
       "    </tr>\n",
       "    <tr>\n",
       "      <th>70770</th>\n",
       "      <td>200720E132901</td>\n",
       "      <td>Slight</td>\n",
       "      <td>2019-10-03</td>\n",
       "      <td>52.385149</td>\n",
       "      <td>Daylight</td>\n",
       "      <td>Birmingham</td>\n",
       "      <td>-2.001877</td>\n",
       "      <td>2</td>\n",
       "      <td>2</td>\n",
       "      <td>Wet or damp</td>\n",
       "      <td>Dual carriageway</td>\n",
       "      <td>Urban</td>\n",
       "      <td>Raining no high winds</td>\n",
       "      <td>Car</td>\n",
       "      <td>2019.0</td>\n",
       "      <td>10.0</td>\n",
       "      <td>3.0</td>\n",
       "      <td>3.0</td>\n",
       "    </tr>\n",
       "    <tr>\n",
       "      <th>249563</th>\n",
       "      <td>200820E047701</td>\n",
       "      <td>Slight</td>\n",
       "      <td>NaT</td>\n",
       "      <td>52.385149</td>\n",
       "      <td>Darkness - lights lit</td>\n",
       "      <td>Birmingham</td>\n",
       "      <td>-2.001877</td>\n",
       "      <td>1</td>\n",
       "      <td>2</td>\n",
       "      <td>Wet or damp</td>\n",
       "      <td>Single carriageway</td>\n",
       "      <td>Urban</td>\n",
       "      <td>Raining no high winds</td>\n",
       "      <td>Goods 7.5 tonnes mgw and over</td>\n",
       "      <td>NaN</td>\n",
       "      <td>NaN</td>\n",
       "      <td>NaN</td>\n",
       "      <td>NaN</td>\n",
       "    </tr>\n",
       "    <tr>\n",
       "      <th>582202</th>\n",
       "      <td>201020S053310</td>\n",
       "      <td>Slight</td>\n",
       "      <td>2022-12-10</td>\n",
       "      <td>52.385149</td>\n",
       "      <td>Darkness - lights lit</td>\n",
       "      <td>Birmingham</td>\n",
       "      <td>-2.001877</td>\n",
       "      <td>1</td>\n",
       "      <td>2</td>\n",
       "      <td>Wet or damp</td>\n",
       "      <td>Dual carriageway</td>\n",
       "      <td>Urban</td>\n",
       "      <td>Other</td>\n",
       "      <td>Car</td>\n",
       "      <td>2022.0</td>\n",
       "      <td>12.0</td>\n",
       "      <td>10.0</td>\n",
       "      <td>5.0</td>\n",
       "    </tr>\n",
       "  </tbody>\n",
       "</table>\n",
       "</div>"
      ],
      "text/plain": [
       "                Index Accident_Severity Accident Date   Latitude  \\\n",
       "70343   200720E065801           Serious           NaT  52.385149   \n",
       "70770   200720E132901            Slight    2019-10-03  52.385149   \n",
       "249563  200820E047701            Slight           NaT  52.385149   \n",
       "582202  201020S053310            Slight    2022-12-10  52.385149   \n",
       "\n",
       "             Light_Conditions District Area  Longitude  Number_of_Casualties  \\\n",
       "70343                Daylight    Birmingham  -2.001877                     1   \n",
       "70770                Daylight    Birmingham  -2.001877                     2   \n",
       "249563  Darkness - lights lit    Birmingham  -2.001877                     1   \n",
       "582202  Darkness - lights lit    Birmingham  -2.001877                     1   \n",
       "\n",
       "        Number_of_Vehicles Road_Surface_Conditions           Road_Type  \\\n",
       "70343                    2                     Dry    Dual carriageway   \n",
       "70770                    2             Wet or damp    Dual carriageway   \n",
       "249563                   2             Wet or damp  Single carriageway   \n",
       "582202                   2             Wet or damp    Dual carriageway   \n",
       "\n",
       "       Urban_or_Rural_Area     Weather_Conditions  \\\n",
       "70343                Urban     Fine no high winds   \n",
       "70770                Urban  Raining no high winds   \n",
       "249563               Urban  Raining no high winds   \n",
       "582202               Urban                  Other   \n",
       "\n",
       "                           Vehicle_Type    Year  Month   Day  DayOfWeek  \n",
       "70343   Goods over 3.5t. and under 7.5t     NaN    NaN   NaN        NaN  \n",
       "70770                               Car  2019.0   10.0   3.0        3.0  \n",
       "249563    Goods 7.5 tonnes mgw and over     NaN    NaN   NaN        NaN  \n",
       "582202                              Car  2022.0   12.0  10.0        5.0  "
      ]
     },
     "execution_count": 42,
     "metadata": {},
     "output_type": "execute_result"
    }
   ],
   "source": [
    "# Filter data for accidents at the specified latitude\n",
    "latitude_filter = 52.385149\n",
    "latitudefltrd = Accident[Accident['Latitude'] == latitude_filter]\n",
    "latitudefltrd "
   ]
  },
  {
   "cell_type": "code",
   "execution_count": 43,
   "id": "1a10d93b-b646-4140-9a3e-e16af08710bf",
   "metadata": {},
   "outputs": [
    {
     "data": {
      "text/plain": [
       "Road_Type           Road_Surface_Conditions\n",
       "Dual carriageway    Dry                        1\n",
       "                    Flood over 3cm. deep       0\n",
       "                    Frost or ice               0\n",
       "                    Snow                       0\n",
       "                    Wet or damp                2\n",
       "One way street      Dry                        0\n",
       "                    Flood over 3cm. deep       0\n",
       "                    Frost or ice               0\n",
       "                    Snow                       0\n",
       "                    Wet or damp                0\n",
       "Roundabout          Dry                        0\n",
       "                    Flood over 3cm. deep       0\n",
       "                    Frost or ice               0\n",
       "                    Snow                       0\n",
       "                    Wet or damp                0\n",
       "Single carriageway  Dry                        0\n",
       "                    Flood over 3cm. deep       0\n",
       "                    Frost or ice               0\n",
       "                    Snow                       0\n",
       "                    Wet or damp                1\n",
       "Slip road           Dry                        0\n",
       "                    Flood over 3cm. deep       0\n",
       "                    Frost or ice               0\n",
       "                    Snow                       0\n",
       "                    Wet or damp                0\n",
       "unknown             Dry                        0\n",
       "                    Flood over 3cm. deep       0\n",
       "                    Frost or ice               0\n",
       "                    Snow                       0\n",
       "                    Wet or damp                0\n",
       "dtype: int64"
      ]
     },
     "execution_count": 43,
     "metadata": {},
     "output_type": "execute_result"
    }
   ],
   "source": [
    "# Groupby road type and road condition to analyze accident counts\n",
    "road_type_condition = latitudefltrd.groupby(['Road_Type', 'Road_Surface_Conditions']).size()\n",
    "road_type_condition"
   ]
  },
  {
   "cell_type": "code",
   "execution_count": 44,
   "id": "09fc6df5-a6ce-4d95-9190-a91a0ab3f10e",
   "metadata": {},
   "outputs": [
    {
     "data": {
      "text/html": [
       "<div>\n",
       "<style scoped>\n",
       "    .dataframe tbody tr th:only-of-type {\n",
       "        vertical-align: middle;\n",
       "    }\n",
       "\n",
       "    .dataframe tbody tr th {\n",
       "        vertical-align: top;\n",
       "    }\n",
       "\n",
       "    .dataframe thead th {\n",
       "        text-align: right;\n",
       "    }\n",
       "</style>\n",
       "<table border=\"1\" class=\"dataframe\">\n",
       "  <thead>\n",
       "    <tr style=\"text-align: right;\">\n",
       "      <th></th>\n",
       "      <th>Road_Type</th>\n",
       "      <th>Road_Surface_Conditions</th>\n",
       "      <th>Accident_Count</th>\n",
       "    </tr>\n",
       "  </thead>\n",
       "  <tbody>\n",
       "    <tr>\n",
       "      <th>0</th>\n",
       "      <td>Dual carriageway</td>\n",
       "      <td>Dry</td>\n",
       "      <td>1</td>\n",
       "    </tr>\n",
       "    <tr>\n",
       "      <th>1</th>\n",
       "      <td>Dual carriageway</td>\n",
       "      <td>Flood over 3cm. deep</td>\n",
       "      <td>0</td>\n",
       "    </tr>\n",
       "    <tr>\n",
       "      <th>2</th>\n",
       "      <td>Dual carriageway</td>\n",
       "      <td>Frost or ice</td>\n",
       "      <td>0</td>\n",
       "    </tr>\n",
       "    <tr>\n",
       "      <th>3</th>\n",
       "      <td>Dual carriageway</td>\n",
       "      <td>Snow</td>\n",
       "      <td>0</td>\n",
       "    </tr>\n",
       "    <tr>\n",
       "      <th>4</th>\n",
       "      <td>Dual carriageway</td>\n",
       "      <td>Wet or damp</td>\n",
       "      <td>2</td>\n",
       "    </tr>\n",
       "    <tr>\n",
       "      <th>5</th>\n",
       "      <td>One way street</td>\n",
       "      <td>Dry</td>\n",
       "      <td>0</td>\n",
       "    </tr>\n",
       "    <tr>\n",
       "      <th>6</th>\n",
       "      <td>One way street</td>\n",
       "      <td>Flood over 3cm. deep</td>\n",
       "      <td>0</td>\n",
       "    </tr>\n",
       "    <tr>\n",
       "      <th>7</th>\n",
       "      <td>One way street</td>\n",
       "      <td>Frost or ice</td>\n",
       "      <td>0</td>\n",
       "    </tr>\n",
       "    <tr>\n",
       "      <th>8</th>\n",
       "      <td>One way street</td>\n",
       "      <td>Snow</td>\n",
       "      <td>0</td>\n",
       "    </tr>\n",
       "    <tr>\n",
       "      <th>9</th>\n",
       "      <td>One way street</td>\n",
       "      <td>Wet or damp</td>\n",
       "      <td>0</td>\n",
       "    </tr>\n",
       "    <tr>\n",
       "      <th>10</th>\n",
       "      <td>Roundabout</td>\n",
       "      <td>Dry</td>\n",
       "      <td>0</td>\n",
       "    </tr>\n",
       "    <tr>\n",
       "      <th>11</th>\n",
       "      <td>Roundabout</td>\n",
       "      <td>Flood over 3cm. deep</td>\n",
       "      <td>0</td>\n",
       "    </tr>\n",
       "    <tr>\n",
       "      <th>12</th>\n",
       "      <td>Roundabout</td>\n",
       "      <td>Frost or ice</td>\n",
       "      <td>0</td>\n",
       "    </tr>\n",
       "    <tr>\n",
       "      <th>13</th>\n",
       "      <td>Roundabout</td>\n",
       "      <td>Snow</td>\n",
       "      <td>0</td>\n",
       "    </tr>\n",
       "    <tr>\n",
       "      <th>14</th>\n",
       "      <td>Roundabout</td>\n",
       "      <td>Wet or damp</td>\n",
       "      <td>0</td>\n",
       "    </tr>\n",
       "    <tr>\n",
       "      <th>15</th>\n",
       "      <td>Single carriageway</td>\n",
       "      <td>Dry</td>\n",
       "      <td>0</td>\n",
       "    </tr>\n",
       "    <tr>\n",
       "      <th>16</th>\n",
       "      <td>Single carriageway</td>\n",
       "      <td>Flood over 3cm. deep</td>\n",
       "      <td>0</td>\n",
       "    </tr>\n",
       "    <tr>\n",
       "      <th>17</th>\n",
       "      <td>Single carriageway</td>\n",
       "      <td>Frost or ice</td>\n",
       "      <td>0</td>\n",
       "    </tr>\n",
       "    <tr>\n",
       "      <th>18</th>\n",
       "      <td>Single carriageway</td>\n",
       "      <td>Snow</td>\n",
       "      <td>0</td>\n",
       "    </tr>\n",
       "    <tr>\n",
       "      <th>19</th>\n",
       "      <td>Single carriageway</td>\n",
       "      <td>Wet or damp</td>\n",
       "      <td>1</td>\n",
       "    </tr>\n",
       "    <tr>\n",
       "      <th>20</th>\n",
       "      <td>Slip road</td>\n",
       "      <td>Dry</td>\n",
       "      <td>0</td>\n",
       "    </tr>\n",
       "    <tr>\n",
       "      <th>21</th>\n",
       "      <td>Slip road</td>\n",
       "      <td>Flood over 3cm. deep</td>\n",
       "      <td>0</td>\n",
       "    </tr>\n",
       "    <tr>\n",
       "      <th>22</th>\n",
       "      <td>Slip road</td>\n",
       "      <td>Frost or ice</td>\n",
       "      <td>0</td>\n",
       "    </tr>\n",
       "    <tr>\n",
       "      <th>23</th>\n",
       "      <td>Slip road</td>\n",
       "      <td>Snow</td>\n",
       "      <td>0</td>\n",
       "    </tr>\n",
       "    <tr>\n",
       "      <th>24</th>\n",
       "      <td>Slip road</td>\n",
       "      <td>Wet or damp</td>\n",
       "      <td>0</td>\n",
       "    </tr>\n",
       "    <tr>\n",
       "      <th>25</th>\n",
       "      <td>unknown</td>\n",
       "      <td>Dry</td>\n",
       "      <td>0</td>\n",
       "    </tr>\n",
       "    <tr>\n",
       "      <th>26</th>\n",
       "      <td>unknown</td>\n",
       "      <td>Flood over 3cm. deep</td>\n",
       "      <td>0</td>\n",
       "    </tr>\n",
       "    <tr>\n",
       "      <th>27</th>\n",
       "      <td>unknown</td>\n",
       "      <td>Frost or ice</td>\n",
       "      <td>0</td>\n",
       "    </tr>\n",
       "    <tr>\n",
       "      <th>28</th>\n",
       "      <td>unknown</td>\n",
       "      <td>Snow</td>\n",
       "      <td>0</td>\n",
       "    </tr>\n",
       "    <tr>\n",
       "      <th>29</th>\n",
       "      <td>unknown</td>\n",
       "      <td>Wet or damp</td>\n",
       "      <td>0</td>\n",
       "    </tr>\n",
       "  </tbody>\n",
       "</table>\n",
       "</div>"
      ],
      "text/plain": [
       "             Road_Type Road_Surface_Conditions  Accident_Count\n",
       "0     Dual carriageway                     Dry               1\n",
       "1     Dual carriageway    Flood over 3cm. deep               0\n",
       "2     Dual carriageway            Frost or ice               0\n",
       "3     Dual carriageway                    Snow               0\n",
       "4     Dual carriageway             Wet or damp               2\n",
       "5       One way street                     Dry               0\n",
       "6       One way street    Flood over 3cm. deep               0\n",
       "7       One way street            Frost or ice               0\n",
       "8       One way street                    Snow               0\n",
       "9       One way street             Wet or damp               0\n",
       "10          Roundabout                     Dry               0\n",
       "11          Roundabout    Flood over 3cm. deep               0\n",
       "12          Roundabout            Frost or ice               0\n",
       "13          Roundabout                    Snow               0\n",
       "14          Roundabout             Wet or damp               0\n",
       "15  Single carriageway                     Dry               0\n",
       "16  Single carriageway    Flood over 3cm. deep               0\n",
       "17  Single carriageway            Frost or ice               0\n",
       "18  Single carriageway                    Snow               0\n",
       "19  Single carriageway             Wet or damp               1\n",
       "20           Slip road                     Dry               0\n",
       "21           Slip road    Flood over 3cm. deep               0\n",
       "22           Slip road            Frost or ice               0\n",
       "23           Slip road                    Snow               0\n",
       "24           Slip road             Wet or damp               0\n",
       "25             unknown                     Dry               0\n",
       "26             unknown    Flood over 3cm. deep               0\n",
       "27             unknown            Frost or ice               0\n",
       "28             unknown                    Snow               0\n",
       "29             unknown             Wet or damp               0"
      ]
     },
     "execution_count": 44,
     "metadata": {},
     "output_type": "execute_result"
    }
   ],
   "source": [
    "result = road_type_condition.reset_index(name='Accident_Count')\n",
    "result"
   ]
  },
  {
   "cell_type": "markdown",
   "id": "7f1f9fc8-6338-4877-9024-decf03ccc89d",
   "metadata": {},
   "source": [
    "<h1>Insight 11</h1>\n",
    "<h2>The analysis supports the idea that latitude 52.385149 could be a hotspot for accidents, particularly due to the influence of road surface conditions (wet or damp)</h2>"
   ]
  },
  {
   "cell_type": "markdown",
   "id": "39574ab1-b486-448b-93ef-8fb1e6cb936b",
   "metadata": {},
   "source": [
    "<h3>Question:</h3>\n",
    "<h1>To analyze the temporal patterns of accidents at latitude 52.385149. Are there any trends  in when accidents occur?</h1>"
   ]
  },
  {
   "cell_type": "code",
   "execution_count": 45,
   "id": "91194670-7691-46d1-8ba6-e32fb63c0b22",
   "metadata": {},
   "outputs": [
    {
     "data": {
      "text/plain": [
       "Day\n",
       "3.0     1\n",
       "10.0    1\n",
       "dtype: int64"
      ]
     },
     "execution_count": 45,
     "metadata": {},
     "output_type": "execute_result"
    }
   ],
   "source": [
    "accidents_per_day = latitudefltrd.groupby('Day').size()\n",
    "accidents_per_day"
   ]
  },
  {
   "cell_type": "markdown",
   "id": "85c58328-d9f7-4739-8fee-b6fd6f481bf8",
   "metadata": {},
   "source": [
    "<h1>Insight 12</h1>\n",
    "<h2>I found out that Accidents occurred on only two specific days of the month: the 3rd and the 10th. This limited distribution suggests that accidents at this latitude do not occur frequently throughout the month.</h2>"
   ]
  },
  {
   "cell_type": "code",
   "execution_count": 46,
   "id": "407a0256-3216-47ea-b14d-4a5f089e7ac9",
   "metadata": {},
   "outputs": [
    {
     "data": {
      "text/plain": [
       "DayOfWeek\n",
       "3.0    1\n",
       "5.0    1\n",
       "dtype: int64"
      ]
     },
     "execution_count": 46,
     "metadata": {},
     "output_type": "execute_result"
    }
   ],
   "source": [
    "accidents_per_day_of_week = latitudefltrd.groupby('DayOfWeek').size()\n",
    "accidents_per_day_of_week"
   ]
  },
  {
   "cell_type": "markdown",
   "id": "8c9c8f33-a37f-47e6-b6b3-8fd9ef6c6cec",
   "metadata": {},
   "source": [
    "<h1>Insight 13</h1>\n",
    "<h2>I found out that accidents were recorded on two days of the week: Wednesday (Day 3) and Friday (Day 5). This indicates that accidents may be more likely to occur mid-week and at the end of the workweek.</h2>"
   ]
  },
  {
   "cell_type": "code",
   "execution_count": 47,
   "id": "d18d38d7-0c57-4ad2-8ce0-309e9149d221",
   "metadata": {},
   "outputs": [
    {
     "data": {
      "text/plain": [
       "Month\n",
       "10.0    1\n",
       "12.0    1\n",
       "dtype: int64"
      ]
     },
     "execution_count": 47,
     "metadata": {},
     "output_type": "execute_result"
    }
   ],
   "source": [
    "accidents_per_month = latitudefltrd.groupby('Month').size()\n",
    "accidents_per_month"
   ]
  },
  {
   "cell_type": "markdown",
   "id": "04cc7400-8817-4b63-8369-f63b74e0d320",
   "metadata": {},
   "source": [
    "<h1>Insight 14</h1>\n",
    "<h2>I found out that accidents occurred in two months: October (Month 10) and December (Month 12). This indicates potential seasonal influences, where there might be more accidents in certain months.</h2>"
   ]
  },
  {
   "cell_type": "code",
   "execution_count": 48,
   "id": "4ce9cc76-ac7d-42c8-b497-fe9c0c9333a0",
   "metadata": {},
   "outputs": [
    {
     "data": {
      "text/plain": [
       "Year\n",
       "2019.0    1\n",
       "2022.0    1\n",
       "dtype: int64"
      ]
     },
     "execution_count": 48,
     "metadata": {},
     "output_type": "execute_result"
    }
   ],
   "source": [
    "accidents_per_year = latitudefltrd.groupby('Year').size()\n",
    "accidents_per_year"
   ]
  },
  {
   "cell_type": "markdown",
   "id": "3fe51f87-1900-4974-b304-7141acde2a69",
   "metadata": {},
   "source": [
    "<h1>Insight 15</h1>\n",
    "<h2>I found out that accidents were recorded in two different years: 2019 and 2022. This suggests that while accidents do occur, they may not be a consistent or frequent issue over time at this specific latitude.\r\n",
    "</h2>"
   ]
  },
  {
   "cell_type": "markdown",
   "id": "9c518b97-8cbe-4db6-b039-94ad058092d7",
   "metadata": {},
   "source": [
    "<h3>Question: </h3>\n",
    "<h1>What is the severity of the accidents occured in the Latitude52.385149</h1>"
   ]
  },
  {
   "cell_type": "code",
   "execution_count": 49,
   "id": "407f4160-fbbd-486b-9ce6-9f4e6352d1dd",
   "metadata": {},
   "outputs": [
    {
     "data": {
      "text/plain": [
       "Accident_Severity\n",
       "Fatal      0\n",
       "Serious    1\n",
       "Slight     3\n",
       "dtype: int64"
      ]
     },
     "execution_count": 49,
     "metadata": {},
     "output_type": "execute_result"
    }
   ],
   "source": [
    "severity_counts = latitudefltrd.groupby('Accident_Severity').size()\n",
    "severity_counts"
   ]
  },
  {
   "cell_type": "markdown",
   "id": "2bbcb64c-78ce-4ee5-b8b8-a547f8be14d8",
   "metadata": {},
   "source": [
    "<h1>Insight 16</h1>\n",
    "<h2>At latitude 52.385149, the analysis of accident severity reveals no fatal accidents, one serious accident, and three slight accidents. This indicates that while accidents do occur in this area, they are generally not severe. </h2>"
   ]
  },
  {
   "cell_type": "markdown",
   "id": "9032ae08-beee-4e3f-afd2-aaea5d889a7b",
   "metadata": {},
   "source": [
    "<h3>continuation..</h3>"
   ]
  },
  {
   "cell_type": "code",
   "execution_count": 51,
   "id": "f18fead6-7af0-4e6b-b2a3-75bb5ac3fdbf",
   "metadata": {},
   "outputs": [
    {
     "name": "stdout",
     "output_type": "stream",
     "text": [
      "Correlation between Latitude and Number of Casualties: 0.008788440104652023\n"
     ]
    }
   ],
   "source": [
    "correlation = birmingham_data['Latitude'].corr(birmingham_data['Number_of_Casualties'])\n",
    "print(f\"Correlation between Latitude and Number of Casualties: {correlation}\")"
   ]
  },
  {
   "cell_type": "markdown",
   "id": "f37f1d0b-1034-4f87-b41b-ad5929ed0217",
   "metadata": {},
   "source": [
    "<h1>Insight 17</h1>\n",
    "<h2>A correlation coefficient of approximately -0.0317 between latitude and accident frequency in Birmingham, indicates no significant correlation</h2>"
   ]
  },
  {
   "cell_type": "markdown",
   "id": "ec09fdc5-bb2f-4773-baa9-7f89e555719e",
   "metadata": {},
   "source": [
    "<h3>Confirming if the Birmingham is Urban or Rural</h3>"
   ]
  },
  {
   "cell_type": "code",
   "execution_count": null,
   "id": "854f7c86-9178-4d0b-a1ee-0288702882f4",
   "metadata": {},
   "outputs": [],
   "source": [
    "Accident[['District Area', 'Urban_or_Rural_Area']].value_counts()"
   ]
  },
  {
   "cell_type": "markdown",
   "id": "1ec82957-9b66-4804-99ab-af491ad55bdb",
   "metadata": {},
   "source": [
    "<h1>Insight 18</h1>\n",
    "<h2>Birmingham, as a densely populated urban area, experiences accident frequency influenced more by factors like traffic volume, road conditions, and driver behavior than geographic factors like latitude. My analysis shows that accidents are more prevalent in Birmingham, particularly under wet or damp conditions, emphasizing the need to address urban traffic dynamics and environmental factors to improve road safety</h2>"
   ]
  },
  {
   "cell_type": "markdown",
   "id": "e3cc14c4-a1d5-48ac-8537-ed8acda52dec",
   "metadata": {},
   "source": [
    "<h3>Question: </h3>\n",
    "<h2>How does the vehicle type involved correlate with the severity of accidents? Are certain vehicle types more prone to severe accidents?</h2>"
   ]
  },
  {
   "cell_type": "code",
   "execution_count": null,
   "id": "6a8167cb-a7ed-46f7-8d8d-1ab391a72bb9",
   "metadata": {},
   "outputs": [],
   "source": [
    "Accident['Vehicle_Type'].value_counts"
   ]
  },
  {
   "cell_type": "code",
   "execution_count": null,
   "id": "e2265480-4945-4c8f-a994-e3cec81ef9f0",
   "metadata": {},
   "outputs": [],
   "source": [
    "filtered_data = Accident[(Accident['Vehicle_Type'] != 'Data missing or out of range') & \n",
    "                   (Accident['Accident_Severity'].notnull())]\n",
    "\n",
    "filtered_data"
   ]
  },
  {
   "cell_type": "code",
   "execution_count": null,
   "id": "203426b5-59e6-4073-95e6-794d865ded59",
   "metadata": {},
   "outputs": [],
   "source": [
    "severity_by_vehicle = filtered_data.groupby(['Vehicle_Type', 'Accident_Severity']).size()\n",
    "severity_by_vehicle"
   ]
  },
  {
   "cell_type": "code",
   "execution_count": null,
   "id": "42bbfd85-c00b-4033-bd8e-c84ea686d61d",
   "metadata": {},
   "outputs": [],
   "source": [
    "severity_analysis = severity_by_vehicle.reset_index(name='Accident_Count')\n",
    "severity_analysis"
   ]
  },
  {
   "cell_type": "code",
   "execution_count": null,
   "id": "eec9dfff-de8f-425a-a43e-c2ba4ad56ac2",
   "metadata": {},
   "outputs": [],
   "source": [
    "severity_pivot = severity_analysis.pivot(index='Vehicle_Type', columns='Accident_Severity', values='Accident_Count').fillna(0) \n",
    "severity_pivot"
   ]
  },
  {
   "cell_type": "code",
   "execution_count": null,
   "id": "44ff2c01-22cc-4fee-bb93-d39f0fd2795d",
   "metadata": {},
   "outputs": [],
   "source": [
    "severity_pivot['Total_Accidents'] = severity_pivot.sum(axis=1)\n",
    "severity_pivot"
   ]
  },
  {
   "cell_type": "code",
   "execution_count": null,
   "id": "e12eb339-c8b3-4568-ab85-5cc3fcfb4496",
   "metadata": {},
   "outputs": [],
   "source": [
    "severity_pivot['Severe_Accidents'] = severity_pivot.get('Serious', 0) + severity_pivot.get('Fatal', 0)\n",
    "severity_pivot['Severe_Proportion'] = severity_pivot['Severe_Accidents'] / severity_pivot['Total_Accidents']"
   ]
  },
  {
   "cell_type": "code",
   "execution_count": null,
   "id": "9d25d531-fcf9-427f-acdc-1841b033b4bc",
   "metadata": {},
   "outputs": [],
   "source": [
    "severity_pivot['Severe_Accidents']"
   ]
  },
  {
   "cell_type": "markdown",
   "id": "252ca9e6-cb7e-45b6-aad8-013e30319875",
   "metadata": {},
   "source": [
    "<h1>Insight 19</h1>\n",
    "<h2>The analysis of severe accidents reveals that the Car category has the highest number of severe accidents, totaling 73,038, followed by Bus or coach (17 or more passenger seats) with 3,698 and Van / Goods 3.5 tonnes mgw or under with 5,021. </h2>"
   ]
  },
  {
   "cell_type": "code",
   "execution_count": null,
   "id": "0ff84b69-43ca-42ab-8b8f-48ddcaa2919b",
   "metadata": {},
   "outputs": [],
   "source": [
    "severity_pivot['Severe_Proportion']"
   ]
  },
  {
   "cell_type": "markdown",
   "id": "c09d1b63-eb7d-4b84-ac0f-c904f16b2405",
   "metadata": {},
   "source": [
    "<h1>Insight 20</h1>\n",
    "<h2>The Pedal cycle category stands out with the highest proportion of severe accidents at approximately 11.42%, indicating that cyclists may face a higher risk of severe outcomes in accidents compared to other vehicle types. Conversely, the proportion of severe accidents for vehicles like Agricultural vehicles, Buses, and Cars ranges from about 7.14% to 7.78%, suggesting that while these vehicles are involved in many accidents, the severity is not disproportionately high relative to their accident counts.</h2>"
   ]
  },
  {
   "cell_type": "markdown",
   "id": "3a8afcb7-bb68-482e-b787-9ca22fb7cfe1",
   "metadata": {},
   "source": [
    "<h3>Question:</h3>\n",
    "<h1>How does the number of accidents vary by month?</h1>"
   ]
  },
  {
   "cell_type": "code",
   "execution_count": 53,
   "id": "163cd400-e62c-4a26-b6c9-0a8f719dde60",
   "metadata": {},
   "outputs": [
    {
     "data": {
      "text/plain": [
       "Month\n",
       "January      18252\n",
       "February     22264\n",
       "March        21824\n",
       "April        19787\n",
       "May          21723\n",
       "June         22196\n",
       "July         22939\n",
       "August       21106\n",
       "September    22558\n",
       "October      23962\n",
       "November     24240\n",
       "December     24156\n",
       "dtype: int64"
      ]
     },
     "execution_count": 53,
     "metadata": {},
     "output_type": "execute_result"
    }
   ],
   "source": [
    "# Create a dictionary mapping month numbers to month names\n",
    "month_dict = {\n",
    "    1.0: 'January',\n",
    "    2.0: 'February',\n",
    "    3.0: 'March',\n",
    "    4.0: 'April',\n",
    "    5.0: 'May',\n",
    "    6.0: 'June',\n",
    "    7.0: 'July',\n",
    "    8.0: 'August',\n",
    "    9.0: 'September',\n",
    "    10.0: 'October',\n",
    "    11.0: 'November',\n",
    "    12.0: 'December'\n",
    "}\n",
    "\n",
    "# Use the dictionary to convert month numbers to names\n",
    "accidents_per_month = Accident.groupby('Month').size()\n",
    "\n",
    "# Convert month numbers to names\n",
    "accidents_per_month_named = accidents_per_month.rename(index=month_dict)\n",
    "\n",
    "accidents_per_month_named\n"
   ]
  },
  {
   "cell_type": "code",
   "execution_count": 54,
   "id": "3b2184ae-1a99-47a7-863b-26c99dc8fd00",
   "metadata": {},
   "outputs": [
    {
     "data": {
      "text/html": [
       "<div>\n",
       "<style scoped>\n",
       "    .dataframe tbody tr th:only-of-type {\n",
       "        vertical-align: middle;\n",
       "    }\n",
       "\n",
       "    .dataframe tbody tr th {\n",
       "        vertical-align: top;\n",
       "    }\n",
       "\n",
       "    .dataframe thead th {\n",
       "        text-align: right;\n",
       "    }\n",
       "</style>\n",
       "<table border=\"1\" class=\"dataframe\">\n",
       "  <thead>\n",
       "    <tr style=\"text-align: right;\">\n",
       "      <th></th>\n",
       "      <th>Month</th>\n",
       "      <th>Counts</th>\n",
       "    </tr>\n",
       "  </thead>\n",
       "  <tbody>\n",
       "    <tr>\n",
       "      <th>0</th>\n",
       "      <td>1.0</td>\n",
       "      <td>18252</td>\n",
       "    </tr>\n",
       "    <tr>\n",
       "      <th>1</th>\n",
       "      <td>2.0</td>\n",
       "      <td>22264</td>\n",
       "    </tr>\n",
       "    <tr>\n",
       "      <th>2</th>\n",
       "      <td>3.0</td>\n",
       "      <td>21824</td>\n",
       "    </tr>\n",
       "    <tr>\n",
       "      <th>3</th>\n",
       "      <td>4.0</td>\n",
       "      <td>19787</td>\n",
       "    </tr>\n",
       "    <tr>\n",
       "      <th>4</th>\n",
       "      <td>5.0</td>\n",
       "      <td>21723</td>\n",
       "    </tr>\n",
       "    <tr>\n",
       "      <th>5</th>\n",
       "      <td>6.0</td>\n",
       "      <td>22196</td>\n",
       "    </tr>\n",
       "    <tr>\n",
       "      <th>6</th>\n",
       "      <td>7.0</td>\n",
       "      <td>22939</td>\n",
       "    </tr>\n",
       "    <tr>\n",
       "      <th>7</th>\n",
       "      <td>8.0</td>\n",
       "      <td>21106</td>\n",
       "    </tr>\n",
       "    <tr>\n",
       "      <th>8</th>\n",
       "      <td>9.0</td>\n",
       "      <td>22558</td>\n",
       "    </tr>\n",
       "    <tr>\n",
       "      <th>9</th>\n",
       "      <td>10.0</td>\n",
       "      <td>23962</td>\n",
       "    </tr>\n",
       "    <tr>\n",
       "      <th>10</th>\n",
       "      <td>11.0</td>\n",
       "      <td>24240</td>\n",
       "    </tr>\n",
       "    <tr>\n",
       "      <th>11</th>\n",
       "      <td>12.0</td>\n",
       "      <td>24156</td>\n",
       "    </tr>\n",
       "  </tbody>\n",
       "</table>\n",
       "</div>"
      ],
      "text/plain": [
       "    Month  Counts\n",
       "0     1.0   18252\n",
       "1     2.0   22264\n",
       "2     3.0   21824\n",
       "3     4.0   19787\n",
       "4     5.0   21723\n",
       "5     6.0   22196\n",
       "6     7.0   22939\n",
       "7     8.0   21106\n",
       "8     9.0   22558\n",
       "9    10.0   23962\n",
       "10   11.0   24240\n",
       "11   12.0   24156"
      ]
     },
     "execution_count": 54,
     "metadata": {},
     "output_type": "execute_result"
    }
   ],
   "source": [
    "accidents_per_month = Accident.groupby('Month').size().reset_index(name='Counts')\n",
    "accidents_per_month"
   ]
  },
  {
   "cell_type": "markdown",
   "id": "f7bb99ea-5285-4980-89b7-0be0b9414482",
   "metadata": {},
   "source": [
    "<h1>Insight 21</h1>\n",
    "<h2>Accidents occur most frequently in the months of November and December, with October also being a peak month, suggesting a seasonal increase in accident rates during these periods.</h2>"
   ]
  },
  {
   "cell_type": "code",
   "execution_count": null,
   "id": "da6ef2ee-7043-4f46-80e3-d85cf5d1b2ca",
   "metadata": {},
   "outputs": [],
   "source": []
  }
 ],
 "metadata": {
  "kernelspec": {
   "display_name": "Python 3 (ipykernel)",
   "language": "python",
   "name": "python3"
  },
  "language_info": {
   "codemirror_mode": {
    "name": "ipython",
    "version": 3
   },
   "file_extension": ".py",
   "mimetype": "text/x-python",
   "name": "python",
   "nbconvert_exporter": "python",
   "pygments_lexer": "ipython3",
   "version": "3.12.5"
  }
 },
 "nbformat": 4,
 "nbformat_minor": 5
}
